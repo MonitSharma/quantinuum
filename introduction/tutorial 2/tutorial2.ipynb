{
 "cells": [
  {
   "cell_type": "markdown",
   "metadata": {},
   "source": [
    "## Improving Quantum Circuit performance with TKET on H-Series devices and other platforms"
   ]
  },
  {
   "cell_type": "markdown",
   "metadata": {},
   "source": [
    "#### Estimating Two-Qubit Gater Error\n",
    "\n",
    "$ \\% \\text{Error}_{2QG} = (1-\\text{Fidelity}^N) \\times 100\\% $\n",
    "\n",
    "where $N$ i the number of two qubit gates in system.\n",
    "\n",
    "Examples:\n",
    "\n",
    "$100$ 2QGs with the fidelity of $0.993$, which means the error% of $=(1-0.993^{100}) \\times 100\\% = 50\\%$\n",
    "\n",
    "$100$ 2QGs with the fidelity of $0.998$, which means the error% of $=(1-0.998^{100}) \\times 100\\% = 18\\%$\n",
    "\n",
    "$100$ 2QGs with the fidelity of $0.998$, which means the error% of $=(1-0.999^{100}) \\times 100\\% = 9.5\\%$\n",
    "\n"
   ]
  },
  {
   "cell_type": "markdown",
   "metadata": {},
   "source": [
    "![alt text](img.png \"2 Qubit Gate Fidelity\")"
   ]
  },
  {
   "cell_type": "markdown",
   "metadata": {},
   "source": [
    "## TKET Extensions\n",
    "\n",
    "![alt text](img2.png \"Title\")"
   ]
  },
  {
   "cell_type": "markdown",
   "metadata": {},
   "source": [
    "## TKET has a default pass manager for each backend\n",
    "\n",
    "`get_compiled_circuit(circuit,optimization_level)`"
   ]
  },
  {
   "cell_type": "markdown",
   "metadata": {},
   "source": [
    "![alt text](img3.png \"Title\")"
   ]
  },
  {
   "cell_type": "code",
   "execution_count": 2,
   "metadata": {},
   "outputs": [],
   "source": [
    "from pytket.extensions.quantinuum import QuantinuumBackend\n",
    "\n",
    "machine = 'H1-1'\n",
    "\n",
    "backend = QuantinuumBackend(device_name = machine)\n",
    "backend.login()"
   ]
  },
  {
   "cell_type": "code",
   "execution_count": 3,
   "metadata": {},
   "outputs": [
    {
     "name": "stdout",
     "output_type": "stream",
     "text": [
      "H1-1 status:  online\n"
     ]
    }
   ],
   "source": [
    "print(machine, \"status: \", QuantinuumBackend.device_state(device_name = machine))"
   ]
  },
  {
   "cell_type": "code",
   "execution_count": 4,
   "metadata": {},
   "outputs": [
    {
     "data": {
      "text/plain": [
       "['H1-1SC', 'H1-1E', 'H1-1']"
      ]
     },
     "execution_count": 4,
     "metadata": {},
     "output_type": "execute_result"
    }
   ],
   "source": [
    "[x.device_name for x in QuantinuumBackend.available_devices()]"
   ]
  },
  {
   "cell_type": "markdown",
   "metadata": {},
   "source": [
    "Take a look [here](https://github.com/CQCL/pytket/tree/main/examples)"
   ]
  },
  {
   "cell_type": "code",
   "execution_count": null,
   "metadata": {},
   "outputs": [],
   "source": []
  }
 ],
 "metadata": {
  "kernelspec": {
   "display_name": "Python 3",
   "language": "python",
   "name": "python3"
  },
  "language_info": {
   "codemirror_mode": {
    "name": "ipython",
    "version": 3
   },
   "file_extension": ".py",
   "mimetype": "text/x-python",
   "name": "python",
   "nbconvert_exporter": "python",
   "pygments_lexer": "ipython3",
   "version": "3.11.7"
  }
 },
 "nbformat": 4,
 "nbformat_minor": 2
}
