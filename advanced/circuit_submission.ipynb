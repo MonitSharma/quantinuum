{
 "cells": [
  {
   "cell_type": "markdown",
   "metadata": {},
   "source": [
    "## Circuit Preparation"
   ]
  },
  {
   "cell_type": "code",
   "execution_count": 1,
   "metadata": {},
   "outputs": [
    {
     "data": {
      "text/html": [
       "\n",
       "\n",
       "\n",
       "\n",
       "\n",
       "\n",
       "<div style=\"resize: vertical; overflow: auto; height: 400px; display: block\">\n",
       "    <iframe srcdoc=\"\n",
       "&lt;!DOCTYPE html&gt;\n",
       "&lt;html lang=&#34;en&#34;&gt;\n",
       "&lt;head&gt;\n",
       "    &lt;meta charset=&#34;UTF-8&#34;&gt;\n",
       "    &lt;!-- Download Vue 3--&gt;\n",
       "&lt;script type=&#34;application/javascript&#34; src=&#34;https://cdn.jsdelivr.net/npm/vue@3&#34;&gt;&lt;/script&gt;\n",
       "&lt;!-- Download Circuit Renderer with styles --&gt;\n",
       "&lt;script type=&#34;application/javascript&#34; src=&#34;https://unpkg.com/pytket-circuit-renderer@0.7/dist/pytket-circuit-renderer.umd.js&#34;&gt;&lt;/script&gt;\n",
       "&lt;link rel=&#34;stylesheet&#34; href=&#34;https://unpkg.com/pytket-circuit-renderer@0.7/dist/pytket-circuit-renderer.css&#34;&gt;\n",
       "&lt;/head&gt;\n",
       "&lt;body&gt;\n",
       "\n",
       "\n",
       "\n",
       "    &lt;div id=&#34;circuit-display-vue-container-515bfa69-4e9d-4ad3-9934-e8442be060ae&#34; class=&#34;pytket-circuit-display-container&#34;&gt;\n",
       "        &lt;div style=&#34;display: none&#34;&gt;\n",
       "            &lt;div id=&#34;circuit-json-to-display&#34;&gt;{&#34;bits&#34;: [[&#34;c&#34;, [0]], [&#34;c&#34;, [1]]], &#34;commands&#34;: [{&#34;args&#34;: [[&#34;q&#34;, [0]]], &#34;op&#34;: {&#34;type&#34;: &#34;H&#34;}}, {&#34;args&#34;: [[&#34;q&#34;, [0]], [&#34;q&#34;, [1]]], &#34;op&#34;: {&#34;type&#34;: &#34;CX&#34;}}, {&#34;args&#34;: [[&#34;q&#34;, [0]], [&#34;c&#34;, [0]]], &#34;op&#34;: {&#34;type&#34;: &#34;Measure&#34;}}, {&#34;args&#34;: [[&#34;q&#34;, [1]], [&#34;c&#34;, [1]]], &#34;op&#34;: {&#34;type&#34;: &#34;Measure&#34;}}], &#34;created_qubits&#34;: [], &#34;discarded_qubits&#34;: [], &#34;implicit_permutation&#34;: [[[&#34;q&#34;, [0]], [&#34;q&#34;, [0]]], [[&#34;q&#34;, [1]], [&#34;q&#34;, [1]]]], &#34;name&#34;: &#34;Bell Test&#34;, &#34;phase&#34;: &#34;0.0&#34;, &#34;qubits&#34;: [[&#34;q&#34;, [0]], [&#34;q&#34;, [1]]]}&lt;/div&gt;\n",
       "        &lt;/div&gt;\n",
       "        &lt;circuit-display-container\n",
       "                :circuit-element-str=&#34;&#39;#circuit-json-to-display&#39;&#34;\n",
       "                :init-render-options=&#34;initRenderOptions&#34;\n",
       "        &gt;&lt;/circuit-display-container&gt;\n",
       "    &lt;/div&gt;\n",
       "    &lt;script type=&#34;application/javascript&#34;&gt;\n",
       "      const circuitRendererUid = &#34;515bfa69-4e9d-4ad3-9934-e8442be060ae&#34;;\n",
       "      const displayOptions = JSON.parse(&#39;{}&#39;);\n",
       "\n",
       "      // Script to initialise the circuit renderer app\r\n",
       "\r\n",
       "const { createApp } = Vue;\r\n",
       "const circuitDisplayContainer = window[&#34;pytket-circuit-renderer&#34;].default;\r\n",
       "// Init variables to be shared between circuit display instances\r\n",
       "if (typeof window.pytketCircuitDisplays === &#34;undefined&#34;) {\r\n",
       "    window.pytketCircuitDisplays = {};\r\n",
       "}\r\n",
       "// Create the root Vue component\r\n",
       "const app = createApp({\r\n",
       "    delimiters: [&#39;[[#&#39;, &#39;#]]&#39;],\r\n",
       "    components: { circuitDisplayContainer },\r\n",
       "    data () {\r\n",
       "      return {\r\n",
       "        initRenderOptions: displayOptions,\r\n",
       "      }\r\n",
       "    }\r\n",
       "})\r\n",
       "app.config.unwrapInjectedRef = true;\r\n",
       "app.mount(&#34;#circuit-display-vue-container-&#34;+circuitRendererUid);\r\n",
       "window.pytketCircuitDisplays[circuitRendererUid] = app;\n",
       "    &lt;/script&gt;\n",
       "\n",
       "\n",
       "\n",
       "&lt;/body&gt;\n",
       "&lt;/html&gt;\n",
       "\"\n",
       "            width=\"100%\" height=\"100%\"\n",
       "            style=\"border: none; outline: none; overflow: auto\"></iframe>\n",
       "</div>\n",
       "\n"
      ],
      "text/plain": [
       "<IPython.core.display.HTML object>"
      ]
     },
     "metadata": {},
     "output_type": "display_data"
    }
   ],
   "source": [
    "from pytket.circuit import Circuit, fresh_symbol, OpType\n",
    "from pytket.circuit.display import render_circuit_jupyter\n",
    "\n",
    "## Set up bell test\n",
    "circ = Circuit(2, name = \"Bell Test\")\n",
    "circ.H(0)\n",
    "circ.CX(0, 1)\n",
    "circ.measure_all()\n",
    "\n",
    "render_circuit_jupyter(circ)"
   ]
  },
  {
   "cell_type": "markdown",
   "metadata": {},
   "source": [
    "## Select a Device\n",
    "\n",
    "Select a machine and login to Quantinuum API using your crednetials"
   ]
  },
  {
   "cell_type": "code",
   "execution_count": 2,
   "metadata": {},
   "outputs": [],
   "source": [
    "from pytket.extensions.quantinuum import QuantinuumBackend\n",
    "\n",
    "machine = 'H1-1E'\n",
    "\n",
    "backend = QuantinuumBackend(device_name = machine)\n",
    "backend.login()"
   ]
  },
  {
   "cell_type": "markdown",
   "metadata": {},
   "source": [
    "The device status can be checked using `device_state`"
   ]
  },
  {
   "cell_type": "code",
   "execution_count": 3,
   "metadata": {},
   "outputs": [
    {
     "name": "stdout",
     "output_type": "stream",
     "text": [
      "H1-1E status:  online\n"
     ]
    }
   ],
   "source": [
    "print(machine, \"status: \", QuantinuumBackend.device_state(device_name = machine))"
   ]
  },
  {
   "cell_type": "markdown",
   "metadata": {},
   "source": [
    "or `H1-1SC` or `H1-1`. These are the only one available to us"
   ]
  },
  {
   "cell_type": "markdown",
   "metadata": {},
   "source": [
    "#### Let's view all the availbale device"
   ]
  },
  {
   "cell_type": "code",
   "execution_count": 4,
   "metadata": {},
   "outputs": [
    {
     "data": {
      "text/plain": [
       "['H1-1SC', 'H1-1E', 'H1-1']"
      ]
     },
     "execution_count": 4,
     "metadata": {},
     "output_type": "execute_result"
    }
   ],
   "source": [
    "[x.device_name for x in QuantinuumBackend.available_devices()]"
   ]
  },
  {
   "cell_type": "markdown",
   "metadata": {},
   "source": [
    "## Circuit Compilation\n",
    "\n",
    "Circuit submitted to Quantinuum H-Series quantum computers and emulators run through TKET compilation passes. This enables circuits to be automatically optimized for H-series systems and run more efficiently.\n",
    "\n",
    "The default compilation setting for circuits submited to H-Series sytems is optimization level 2\n",
    "\n"
   ]
  },
  {
   "cell_type": "markdown",
   "metadata": {},
   "source": [
    "Before submitting it to the Hardware the `get_compiled_circuit` function performs the same compilation passes run after submission to Quantinuum systesms. The advantage of using this function before is to see exactly what circuit optimizations will work the best.\n",
    " \n",
    "The `optimization_level` parameter in the `get_compiled_circuit` function corresponds directly to the level of optimization, which is defaulted to $2$. This package is integrated in the stack, so performing circuit optimization is redundant, but user can nevertheless do this, to check how the optimization is applied.\n",
    "\n",
    "\n",
    "1. Use `optimization_level = 0` when running `get_compiled_circuit`, then submit the circuit using `process_circuits` knowing the actual level run would be $2$\n",
    "2. Use the `get_compiled_circuit` function with the desired optimization lebel to observe different optimizations.\n",
    "3. If you want to have no optimization, you can always set `optimization_level=0`\n"
   ]
  },
  {
   "cell_type": "markdown",
   "metadata": {},
   "source": [
    "Let's see this in action"
   ]
  },
  {
   "cell_type": "code",
   "execution_count": 5,
   "metadata": {},
   "outputs": [
    {
     "data": {
      "text/html": [
       "\n",
       "\n",
       "\n",
       "\n",
       "\n",
       "\n",
       "<div style=\"resize: vertical; overflow: auto; height: 400px; display: block\">\n",
       "    <iframe srcdoc=\"\n",
       "&lt;!DOCTYPE html&gt;\n",
       "&lt;html lang=&#34;en&#34;&gt;\n",
       "&lt;head&gt;\n",
       "    &lt;meta charset=&#34;UTF-8&#34;&gt;\n",
       "    &lt;!-- Download Vue 3--&gt;\n",
       "&lt;script type=&#34;application/javascript&#34; src=&#34;https://cdn.jsdelivr.net/npm/vue@3&#34;&gt;&lt;/script&gt;\n",
       "&lt;!-- Download Circuit Renderer with styles --&gt;\n",
       "&lt;script type=&#34;application/javascript&#34; src=&#34;https://unpkg.com/pytket-circuit-renderer@0.7/dist/pytket-circuit-renderer.umd.js&#34;&gt;&lt;/script&gt;\n",
       "&lt;link rel=&#34;stylesheet&#34; href=&#34;https://unpkg.com/pytket-circuit-renderer@0.7/dist/pytket-circuit-renderer.css&#34;&gt;\n",
       "&lt;/head&gt;\n",
       "&lt;body&gt;\n",
       "\n",
       "\n",
       "\n",
       "    &lt;div id=&#34;circuit-display-vue-container-ab261c12-c7a7-4216-9183-39dd88a8aac0&#34; class=&#34;pytket-circuit-display-container&#34;&gt;\n",
       "        &lt;div style=&#34;display: none&#34;&gt;\n",
       "            &lt;div id=&#34;circuit-json-to-display&#34;&gt;{&#34;bits&#34;: [[&#34;c&#34;, [0]], [&#34;c&#34;, [1]]], &#34;commands&#34;: [{&#34;args&#34;: [[&#34;q&#34;, [0]]], &#34;op&#34;: {&#34;params&#34;: [&#34;1&#34;], &#34;type&#34;: &#34;Rz&#34;}}, {&#34;args&#34;: [[&#34;q&#34;, [1]]], &#34;op&#34;: {&#34;params&#34;: [&#34;1&#34;], &#34;type&#34;: &#34;Rz&#34;}}, {&#34;args&#34;: [[&#34;q&#34;, [0]]], &#34;op&#34;: {&#34;params&#34;: [&#34;1/2&#34;, &#34;1/2&#34;], &#34;type&#34;: &#34;PhasedX&#34;}}, {&#34;args&#34;: [[&#34;q&#34;, [1]]], &#34;op&#34;: {&#34;params&#34;: [&#34;1.5&#34;, &#34;1/2&#34;], &#34;type&#34;: &#34;PhasedX&#34;}}, {&#34;args&#34;: [[&#34;q&#34;, [0]]], &#34;op&#34;: {&#34;params&#34;: [&#34;1&#34;], &#34;type&#34;: &#34;Rz&#34;}}, {&#34;args&#34;: [[&#34;q&#34;, [0]], [&#34;q&#34;, [1]]], &#34;op&#34;: {&#34;params&#34;: [&#34;0.5&#34;], &#34;type&#34;: &#34;ZZPhase&#34;}}, {&#34;args&#34;: [[&#34;q&#34;, [0]]], &#34;op&#34;: {&#34;params&#34;: [&#34;3/2&#34;], &#34;type&#34;: &#34;Rz&#34;}}, {&#34;args&#34;: [[&#34;q&#34;, [1]]], &#34;op&#34;: {&#34;params&#34;: [&#34;1/2&#34;], &#34;type&#34;: &#34;Rz&#34;}}, {&#34;args&#34;: [[&#34;q&#34;, [0]], [&#34;c&#34;, [0]]], &#34;op&#34;: {&#34;type&#34;: &#34;Measure&#34;}}, {&#34;args&#34;: [[&#34;q&#34;, [1]]], &#34;op&#34;: {&#34;params&#34;: [&#34;1.5&#34;, &#34;1/2&#34;], &#34;type&#34;: &#34;PhasedX&#34;}}, {&#34;args&#34;: [[&#34;q&#34;, [1]], [&#34;c&#34;, [1]]], &#34;op&#34;: {&#34;type&#34;: &#34;Measure&#34;}}], &#34;created_qubits&#34;: [], &#34;discarded_qubits&#34;: [], &#34;implicit_permutation&#34;: [[[&#34;q&#34;, [0]], [&#34;q&#34;, [0]]], [[&#34;q&#34;, [1]], [&#34;q&#34;, [1]]]], &#34;name&#34;: &#34;Bell Test&#34;, &#34;phase&#34;: &#34;0.75&#34;, &#34;qubits&#34;: [[&#34;q&#34;, [0]], [&#34;q&#34;, [1]]]}&lt;/div&gt;\n",
       "        &lt;/div&gt;\n",
       "        &lt;circuit-display-container\n",
       "                :circuit-element-str=&#34;&#39;#circuit-json-to-display&#39;&#34;\n",
       "                :init-render-options=&#34;initRenderOptions&#34;\n",
       "        &gt;&lt;/circuit-display-container&gt;\n",
       "    &lt;/div&gt;\n",
       "    &lt;script type=&#34;application/javascript&#34;&gt;\n",
       "      const circuitRendererUid = &#34;ab261c12-c7a7-4216-9183-39dd88a8aac0&#34;;\n",
       "      const displayOptions = JSON.parse(&#39;{}&#39;);\n",
       "\n",
       "      // Script to initialise the circuit renderer app\r\n",
       "\r\n",
       "const { createApp } = Vue;\r\n",
       "const circuitDisplayContainer = window[&#34;pytket-circuit-renderer&#34;].default;\r\n",
       "// Init variables to be shared between circuit display instances\r\n",
       "if (typeof window.pytketCircuitDisplays === &#34;undefined&#34;) {\r\n",
       "    window.pytketCircuitDisplays = {};\r\n",
       "}\r\n",
       "// Create the root Vue component\r\n",
       "const app = createApp({\r\n",
       "    delimiters: [&#39;[[#&#39;, &#39;#]]&#39;],\r\n",
       "    components: { circuitDisplayContainer },\r\n",
       "    data () {\r\n",
       "      return {\r\n",
       "        initRenderOptions: displayOptions,\r\n",
       "      }\r\n",
       "    }\r\n",
       "})\r\n",
       "app.config.unwrapInjectedRef = true;\r\n",
       "app.mount(&#34;#circuit-display-vue-container-&#34;+circuitRendererUid);\r\n",
       "window.pytketCircuitDisplays[circuitRendererUid] = app;\n",
       "    &lt;/script&gt;\n",
       "\n",
       "\n",
       "\n",
       "&lt;/body&gt;\n",
       "&lt;/html&gt;\n",
       "\"\n",
       "            width=\"100%\" height=\"100%\"\n",
       "            style=\"border: none; outline: none; overflow: auto\"></iframe>\n",
       "</div>\n",
       "\n"
      ],
      "text/plain": [
       "<IPython.core.display.HTML object>"
      ]
     },
     "metadata": {},
     "output_type": "display_data"
    }
   ],
   "source": [
    "compiled_circ = backend.get_compiled_circuit(circ,optimisation_level=0)\n",
    "render_circuit_jupyter(compiled_circ)"
   ]
  },
  {
   "cell_type": "markdown",
   "metadata": {},
   "source": [
    "## Circuit Cost\n",
    "\n",
    "It's always a good practice to check how many HQC's a job will cost"
   ]
  },
  {
   "cell_type": "code",
   "execution_count": 26,
   "metadata": {},
   "outputs": [
    {
     "data": {
      "text/plain": [
       "5.66"
      ]
     },
     "execution_count": 26,
     "metadata": {},
     "output_type": "execute_result"
    }
   ],
   "source": [
    "n_shots = 100\n",
    "backend.cost(compiled_circ, n_shots=n_shots, syntax_checker='H1-1E')"
   ]
  },
  {
   "cell_type": "markdown",
   "metadata": {},
   "source": [
    "$$ HQC = 5 + C(N_{1q} + 10 N_{2q} + 5 N_m) / 5000 $$\n",
    "\n",
    "\n",
    "1. $N_{1q}$ is the number of single-qubit operations in a circuit.\n",
    "2. $N_{2q}$ is the number of native two-qubit operations in a circuit. Native gate is equivalent to CNOT up to several single-qubit gates.\n",
    "3. $N_m$ is the number of state preparation and measurement (SPAM) operations in a circuit including initial implicit state preparation and any intermediate and final measurements and state resets.\n",
    "4. $C$ is the shot count."
   ]
  },
  {
   "cell_type": "markdown",
   "metadata": {},
   "source": [
    "#### Importing Circuit from Qiskit"
   ]
  },
  {
   "cell_type": "code",
   "execution_count": 9,
   "metadata": {},
   "outputs": [],
   "source": [
    "## do the basic imports\n",
    "\n",
    "# doing the basic imports\n",
    "\n",
    "import numpy as np\n",
    "import math\n",
    "import matplotlib.pyplot as plt\n",
    "\n",
    "\n",
    "\n",
    "\n",
    "# quantum imports\n",
    "\n",
    "from qiskit import *                    # getting all the necessary qiskit packages\n",
    "\n",
    "from qiskit import QuantumRegister, QuantumCircuit, ClassicalRegister\n",
    "from qiskit.visualization import *      # visualization tools\n",
    "from qiskit.circuit import ParameterVector\n",
    "from qiskit.circuit.library import IntegerComparator,TwoLocal\n",
    "from qiskit.circuit.library.arithmetic import LinearAmplitudeFunction, CDKMRippleCarryAdder\n",
    "from qiskit.circuit.library import RealAmplitudes\n",
    "\n",
    "simulator = BasicAer.get_backend('qasm_simulator')  # setting the backend\n",
    "from qiskit_algorithms import IterativeAmplitudeEstimation, EstimationProblem\n",
    "from qiskit_algorithms.optimizers import optimizer, ADAM,GradientDescent, SPSA, COBYLA, GSLS, SLSQP, AQGD, NELDER_MEAD, POWELL\n",
    "\n",
    "\n",
    "from qiskit_finance.applications.estimation import EuropeanCallPricing\n",
    "from qiskit_finance.circuit.library import NormalDistribution\n",
    "from qiskit.circuit.library import RYGate\n",
    "from qiskit_aer.primitives import Sampler\n",
    "from qiskit.quantum_info import Statevector\n",
    "from qiskit_aer.primitives import Sampler\n",
    "from qiskit.utils import QuantumInstance, algorithm_globals\n",
    "from qiskit.circuit.library import IntegerComparator"
   ]
  },
  {
   "cell_type": "code",
   "execution_count": 16,
   "metadata": {},
   "outputs": [
    {
     "data": {
      "text/plain": [
       "<qiskit.circuit.instructionset.InstructionSet at 0x1eaa1479660>"
      ]
     },
     "execution_count": 16,
     "metadata": {},
     "output_type": "execute_result"
    }
   ],
   "source": [
    "qc = QuantumCircuit(15)\n",
    "    #lets define the constants\n",
    "\n",
    "p = 0.9 # price of selling the product\n",
    "\n",
    "c1 = 0.6 # cost of buying the product from supplier 1\n",
    "c2 = 0.5 # cost of buying the product from supplier 2\n",
    "o = 0.9\n",
    "w = 0.3\n",
    "f1 = 0.2 # fixed cost of buying from supplier 1\n",
    "f2 = 0.3 # fixed cost of buying from supplier 2\n",
    "R1 = 0.3 # reliability of supplier 1\n",
    "R2 = 0.5 # reliability of supplier 2\n",
    "    \n",
    "c = 0.1\n",
    "   \n",
    "mu = 5\n",
    "sigma = 2\n",
    "# loading the demand distribution\n",
    "demand = NormalDistribution(num_qubits=3,mu=mu,sigma=sigma,  bounds=[0,7])\n",
    "params = [np.pi/2]*18   \n",
    "supply1 = RealAmplitudes(3, reps=2)\n",
    "supply2 = RealAmplitudes(3, reps=2)\n",
    "    # taking the parameters from the list\n",
    "list1 = params[:9]\n",
    "list2 = params[9:]\n",
    "\n",
    "    \n",
    "supply1 = supply1.assign_parameters(list1)\n",
    "supply2 = supply2.assign_parameters(list2)\n",
    "\n",
    "    #qc.compose(prob_circuit,qubits=[8,9,10], inplace=True)\n",
    "qc.compose(demand,qubits=[8,9,10], inplace=True)\n",
    "qc.compose(supply1, qubits = [0,1,2], inplace=True)\n",
    "qc.compose(supply2, qubits = [3,4,5], inplace=True)\n",
    "\n",
    "a1 = p-w\n",
    "a2 = o-w\n",
    "a3 = w-c1\n",
    "a4 = w-c2\n",
    "\n",
    "\n",
    "    # Function Loading Steps    \n",
    "\n",
    "    # Step 1\n",
    "for i in range(8,11):\n",
    "    qc.cry(2*c*a1*(2**i),i,12)\n",
    "\n",
    "\n",
    "\n",
    "    # Step 2\n",
    "\n",
    "for i in range(0,3):\n",
    "    qc.cry(2*c*a3*R1*(2**i),i,12)\n",
    "\n",
    "\n",
    "\n",
    "    # Step 3\n",
    "\n",
    "for i in range(3,6):\n",
    "    qc.cry(2*c*a4*R2*(2**i),i,12)\n",
    "\n",
    "\n",
    "    # Step 4\n",
    "\n",
    "for i in range(8,11):\n",
    "    qc.cry(-2*c*a2*(2**i),i,12)\n",
    "\n",
    "\n",
    "    # Step 5\n",
    "\n",
    "for i in range(0,3):\n",
    "    qc.cry(2*c*a2*R1*(2**i),i,12)\n",
    "\n",
    "\n",
    "\n",
    "    # Step 6\n",
    "\n",
    "for i in range(3,6):\n",
    "    qc.cry(2*c*a2*R2*(2**i),i,12)\n",
    "    \n",
    "qc.barrier()\n",
    "\n",
    "    # fixed cost\n",
    "\n",
    "qc.cnot(0,13)\n",
    "qc.cnot(1,13)\n",
    "qc.cnot(2,13)\n",
    "qc.cnot(3,14)\n",
    "qc.cnot(4,14)\n",
    "qc.cnot(5,14)\n",
    "\n",
    "qc.ccx(0,1,13)\n",
    "qc.ccx(1,2,13)\n",
    "qc.ccx(0,2,13)\n",
    "\n",
    "qc.mct([0,1,2],13)\n",
    "qc.ccx(3,4,14)\n",
    "qc.ccx(4,5,14)\n",
    "qc.ccx(3,5,14)\n",
    "\n",
    "qc.mct([3,4,5],14)\n",
    "\n",
    "qc.cry(-2*c*f1,13,12)\n",
    "qc.cry(-2*c*f2,14,12)\n",
    "\n",
    "\n",
    "\n",
    "\n",
    "    # Addition Circuit Steps\n",
    "    \n",
    "n = 3\n",
    "z = 6\n",
    "\n",
    "# Step 1\n",
    "for i in range(1,n):\n",
    "    qc.cnot(z,i)\n",
    "\n",
    "for i in range(1,n):\n",
    "    qc.cnot(z,i+n)\n",
    "\n",
    "\n",
    "    # Step 2\n",
    "qc.ccx(0,n,n+n)\n",
    "\n",
    "qc.x(n)\n",
    "\n",
    "    # Step 3\n",
    "\n",
    "for i in range(1,n-1):\n",
    "    qc.cnot(n+n,i+n)\n",
    "    qc.cnot(n+n,i)\n",
    "    qc.ccx(i,i+n,n+n)\n",
    "    qc.ccx(i,i+n,0)\n",
    "\n",
    "    # Step 4\n",
    "\n",
    "qc.cnot(n+n,n+n-1)\n",
    "qc.cnot(n+n,n-1)\n",
    "qc.ccx(n+n-1,n-1,n+n)\n",
    "\n",
    "\n",
    "    # Step 5\n",
    "\n",
    "\n",
    "for i in range(1,n-1):\n",
    "    qc.cnot(0,n+n-i)\n",
    "    qc.ccx(2*n-i-1,n-i-1,0)\n",
    "\n",
    "    # Step 6\n",
    "\n",
    "for i in range(1,n-1):\n",
    "    qc.ccx(0,n,2*n-i)\n",
    "\n",
    "    # Step 7\n",
    "\n",
    "qc.x(n)\n",
    "qc.ccx(0,n,n+1)\n",
    "\n",
    "\n",
    "    # Step 8\n",
    "for i in range(n):\n",
    "    qc.cnot(i+n,i)\n",
    "\n",
    "    \n",
    "qc.barrier()\n",
    "    # subtraction\n",
    "    \n",
    "    \n",
    "    # Step 1\n",
    "for i in range(7,11):\n",
    "    qc.x(i)\n",
    "\n",
    "    # Step 2\n",
    "qc.cnot(11,1)\n",
    "qc.cnot(11,2)\n",
    "qc.cnot(11,6)\n",
    "qc.cnot(11,9)\n",
    "qc.cnot(11,10)\n",
    "qc.cnot(11,7)\n",
    "\n",
    "    # Step 3\n",
    "qc.ccx(0,8,11)\n",
    "qc.x(8)\n",
    "\n",
    "    # Step 4\n",
    "qc.cnot(11,9)\n",
    "qc.cnot(11,1)\n",
    "qc.ccx(1,9,11)\n",
    "qc.cnot(11,10)\n",
    "qc.ccx(9,1,0)\n",
    "qc.cnot(11,2)\n",
    "qc.ccx(2,10,11)\n",
    "qc.ccx(10,2,0)\n",
    "\n",
    "\n",
    "\n",
    "    # Step 5\n",
    "qc.cnot(11,7)\n",
    "qc.cnot(11,6)\n",
    "qc.ccx(6,7,11)\n",
    "\n",
    "\n",
    "    # Step 6\n",
    "\n",
    "qc.cnot(0,7)\n",
    "qc.ccx(10,2,0)\n",
    "qc.cnot(0,10)\n",
    "qc.ccx(9,1,0)\n",
    "\n",
    "\n",
    "    # Step 7\n",
    "qc.ccx(0,8,7)\n",
    "qc.ccx(0,8,10)\n",
    "\n",
    "    # Step 8\n",
    "qc.x(8)\n",
    "\n",
    "qc.ccx(0,8,9)\n",
    "\n",
    "\n",
    "    # Step 9\n",
    "\n",
    "qc.cnot(8,0)\n",
    "qc.cnot(9,1)\n",
    "qc.cnot(10,2)\n",
    "qc.cnot(7,6)\n",
    "\n",
    "\n",
    "    # Step 10\n",
    "qc.x(0)\n",
    "qc.x(1)\n",
    "qc.x(2)\n",
    "qc.x(6)\n",
    "qc.x(7)\n",
    "qc.x(8)\n",
    "qc.x(9)\n",
    "qc.x(10)\n",
    "\n",
    "\n",
    "\n",
    "    \n",
    "\n",
    "\n",
    "qc.barrier()\n",
    "\n",
    "\n",
    "    #qc.x(11)\n",
    "qc.cry(2*c*-100000,0,12)\n",
    "qc.cry(2*c*-100000,1,12)\n",
    "qc.cry(2*c*-100000,2,12)\n",
    "qc.cry(2*c*-100000,6,12)\n",
    "qc.cry(2*c*-100000,11,12)\n",
    "qc.ry(np.pi/2,12)\n",
    "    \n",
    "\n",
    "\n",
    "\n",
    "\n",
    "\n",
    "\n",
    "    #return result\n",
    "\n",
    "    #return -((result.estimation-0.5)/c)\n",
    "    "
   ]
  },
  {
   "cell_type": "code",
   "execution_count": null,
   "metadata": {},
   "outputs": [],
   "source": [
    "qc.draw('mpl')\n"
   ]
  },
  {
   "cell_type": "code",
   "execution_count": 23,
   "metadata": {},
   "outputs": [
    {
     "data": {
      "image/png": "[encoded data removed]",
      "text/plain": [
       "<Figure size 472.949x1287.61 with 1 Axes>"
      ]
     },
     "execution_count": 23,
     "metadata": {},
     "output_type": "execute_result"
    }
   ],
   "source": [
    "qc = QuantumCircuit(15)\n",
    "    #lets define the constants\n",
    "\n",
    "p = 0.9 # price of selling the product\n",
    "\n",
    "c1 = 0.6 # cost of buying the product from supplier 1\n",
    "c2 = 0.5 # cost of buying the product from supplier 2\n",
    "o = 0.9\n",
    "w = 0.3\n",
    "f1 = 0.2 # fixed cost of buying from supplier 1\n",
    "f2 = 0.3 # fixed cost of buying from supplier 2\n",
    "R1 = 0.3 # reliability of supplier 1\n",
    "R2 = 0.5 # reliability of supplier 2\n",
    "    \n",
    "c = 0.1\n",
    "   \n",
    "mu = 5\n",
    "sigma = 2\n",
    "# loading the demand distribution\n",
    "demand = NormalDistribution(num_qubits=3,mu=mu,sigma=sigma,  bounds=[0,7])\n",
    "params = [np.pi/2]*18   \n",
    "supply1 = RealAmplitudes(3, reps=2)\n",
    "supply2 = RealAmplitudes(3, reps=2)\n",
    "    # taking the parameters from the list\n",
    "list1 = params[:9]\n",
    "list2 = params[9:]\n",
    "\n",
    "    \n",
    "supply1 = supply1.assign_parameters(list1)\n",
    "supply2 = supply2.assign_parameters(list2)\n",
    "\n",
    "    #qc.compose(prob_circuit,qubits=[8,9,10], inplace=True)\n",
    "qc.compose(demand,qubits=[8,9,10], inplace=True)\n",
    "qc.compose(supply1, qubits = [0,1,2], inplace=True)\n",
    "qc.compose(supply2, qubits = [3,4,5], inplace=True)\n",
    "qc.draw('mpl')"
   ]
  },
  {
   "cell_type": "code",
   "execution_count": 22,
   "metadata": {},
   "outputs": [
    {
     "ename": "RuntimeError",
     "evalue": "Gate has an invalid number of parameters",
     "output_type": "error",
     "traceback": [
      "\u001b[1;31m---------------------------------------------------------------------------\u001b[0m",
      "\u001b[1;31mRuntimeError\u001b[0m                              Traceback (most recent call last)",
      "\u001b[1;32mc:\\Users\\monitsharma\\Downloads\\quantinuum\\advanced\\circuit_submission.ipynb Cell 22\u001b[0m line \u001b[0;36m2\n\u001b[0;32m      <a href='vscode-notebook-cell:/c%3A/Users/monitsharma/Downloads/quantinuum/advanced/circuit_submission.ipynb#X26sZmlsZQ%3D%3D?line=0'>1</a>\u001b[0m \u001b[39mfrom\u001b[39;00m \u001b[39mpytket\u001b[39;00m\u001b[39m.\u001b[39;00m\u001b[39mextensions\u001b[39;00m\u001b[39m.\u001b[39;00m\u001b[39mqiskit\u001b[39;00m \u001b[39mimport\u001b[39;00m qiskit_to_tk\n\u001b[1;32m----> <a href='vscode-notebook-cell:/c%3A/Users/monitsharma/Downloads/quantinuum/advanced/circuit_submission.ipynb#X26sZmlsZQ%3D%3D?line=1'>2</a>\u001b[0m c \u001b[39m=\u001b[39m qiskit_to_tk(qc)\n",
      "File \u001b[1;32m~\\AppData\\Local\\Packages\\PythonSoftwareFoundation.Python.3.11_qbz5n2kfra8p0\\LocalCache\\local-packages\\Python311\\site-packages\\pytket\\extensions\\qiskit\\qiskit_convert.py:545\u001b[0m, in \u001b[0;36mqiskit_to_tk\u001b[1;34m(qcirc, preserve_param_uuid)\u001b[0m\n\u001b[0;32m    537\u001b[0m     qcirc \u001b[39m=\u001b[39m cast(QuantumCircuit, qcirc\u001b[39m.\u001b[39massign_parameters(updates))\n\u001b[0;32m    539\u001b[0m builder \u001b[39m=\u001b[39m CircuitBuilder(\n\u001b[0;32m    540\u001b[0m     qregs\u001b[39m=\u001b[39mqcirc\u001b[39m.\u001b[39mqregs,\n\u001b[0;32m    541\u001b[0m     cregs\u001b[39m=\u001b[39mqcirc\u001b[39m.\u001b[39mcregs,\n\u001b[0;32m    542\u001b[0m     name\u001b[39m=\u001b[39mcirc_name,\n\u001b[0;32m    543\u001b[0m     phase\u001b[39m=\u001b[39mparam_to_tk(qcirc\u001b[39m.\u001b[39mglobal_phase),\n\u001b[0;32m    544\u001b[0m )\n\u001b[1;32m--> 545\u001b[0m builder\u001b[39m.\u001b[39;49madd_qiskit_data(qcirc\u001b[39m.\u001b[39;49mdata)\n\u001b[0;32m    546\u001b[0m \u001b[39mreturn\u001b[39;00m builder\u001b[39m.\u001b[39mcircuit()\n",
      "File \u001b[1;32m~\\AppData\\Local\\Packages\\PythonSoftwareFoundation.Python.3.11_qbz5n2kfra8p0\\LocalCache\\local-packages\\Python311\\site-packages\\pytket\\extensions\\qiskit\\qiskit_convert.py:499\u001b[0m, in \u001b[0;36mCircuitBuilder.add_qiskit_data\u001b[1;34m(self, data)\u001b[0m\n\u001b[0;32m    495\u001b[0m         params \u001b[39m=\u001b[39m [param_to_tk(p) \u001b[39mfor\u001b[39;00m p \u001b[39min\u001b[39;00m instr\u001b[39m.\u001b[39mparams]\n\u001b[0;32m    496\u001b[0m         gate_def \u001b[39m=\u001b[39m CustomGateDef\u001b[39m.\u001b[39mdefine(\n\u001b[0;32m    497\u001b[0m             instr\u001b[39m.\u001b[39mname, subc, \u001b[39mlist\u001b[39m(subc\u001b[39m.\u001b[39mfree_symbols())\n\u001b[0;32m    498\u001b[0m         )\n\u001b[1;32m--> 499\u001b[0m         \u001b[39mself\u001b[39;49m\u001b[39m.\u001b[39;49mtkc\u001b[39m.\u001b[39;49madd_custom_gate(gate_def, params, qubits \u001b[39m+\u001b[39;49m bits)  \u001b[39m# type: ignore\u001b[39;00m\n\u001b[0;32m    500\u001b[0m \u001b[39melif\u001b[39;00m optype \u001b[39m==\u001b[39m OpType\u001b[39m.\u001b[39mCU3 \u001b[39mand\u001b[39;00m \u001b[39mtype\u001b[39m(instr) \u001b[39m==\u001b[39m qiskit_gates\u001b[39m.\u001b[39mCUGate:\n\u001b[0;32m    501\u001b[0m     \u001b[39mif\u001b[39;00m instr\u001b[39m.\u001b[39mparams[\u001b[39m-\u001b[39m\u001b[39m1\u001b[39m] \u001b[39m==\u001b[39m \u001b[39m0\u001b[39m:\n",
      "\u001b[1;31mRuntimeError\u001b[0m: Gate has an invalid number of parameters"
     ]
    }
   ],
   "source": [
    "from pytket.extensions.qiskit import qiskit_to_tk\n",
    "c = qiskit_to_tk(qc)"
   ]
  },
  {
   "cell_type": "code",
   "execution_count": null,
   "metadata": {},
   "outputs": [],
   "source": []
  },
  {
   "cell_type": "markdown",
   "metadata": {},
   "source": [
    "### Revisit It later"
   ]
  },
  {
   "cell_type": "markdown",
   "metadata": {},
   "source": [
    "## Run the circuit\n",
    "\n",
    "Now run it on Quantinuum system"
   ]
  },
  {
   "cell_type": "code",
   "execution_count": 27,
   "metadata": {},
   "outputs": [
    {
     "name": "stdout",
     "output_type": "stream",
     "text": [
      "('e0dbb255ecb54b7d9f8ac4394b98fbce', 'null', 2, '[[\"c\", 0], [\"c\", 1]]')\n"
     ]
    }
   ],
   "source": [
    "handle = backend.process_circuit(compiled_circ, n_shots=n_shots)\n",
    "\n",
    "print(handle)"
   ]
  },
  {
   "cell_type": "markdown",
   "metadata": {},
   "source": [
    "The status of a submitted job can be viewed at any time, indicating if a job is in the queue or completed. Additional information is also provided, such as queue position, start times, completion time, and circuit cost in H-Series Quantum Credits (HQCs)."
   ]
  },
  {
   "cell_type": "code",
   "execution_count": 28,
   "metadata": {},
   "outputs": [
    {
     "name": "stdout",
     "output_type": "stream",
     "text": [
      "CircuitStatus(status=<StatusEnum.COMPLETED: 'Circuit has completed. Results are ready.'>, message='{\"name\": \"Bell Test\", \"submit-date\": \"2023-11-07T04:55:42.393861\", \"result-date\": \"2023-11-07T04:55:50.880565\", \"queue-position\": null, \"cost\": \"5.66\", \"error\": null}', error_detail=None, completed_time=None, queued_time=None, submitted_time=None, running_time=None, cancelled_time=None, error_time=None, queue_position=None)\n"
     ]
    }
   ],
   "source": [
    "status = backend.circuit_status(handle)\n",
    "print(status)"
   ]
  },
  {
   "cell_type": "markdown",
   "metadata": {},
   "source": [
    "### Retrieve Results\n",
    "\n",
    "Results can be retrieved using`get_result` function"
   ]
  },
  {
   "cell_type": "code",
   "execution_count": 33,
   "metadata": {},
   "outputs": [
    {
     "name": "stdout",
     "output_type": "stream",
     "text": [
      "Counter({(1, 1): 51, (0, 0): 49})\n"
     ]
    }
   ],
   "source": [
    "result = backend.get_result(handle)\n",
    "print(result.get_counts())"
   ]
  },
  {
   "cell_type": "markdown",
   "metadata": {},
   "source": [
    "For large jobs, there is also the ability to return partial results for unfinished jobs"
   ]
  },
  {
   "cell_type": "code",
   "execution_count": 32,
   "metadata": {},
   "outputs": [
    {
     "name": "stdout",
     "output_type": "stream",
     "text": [
      "Counter({(1, 1): 51, (0, 0): 49})\n"
     ]
    }
   ],
   "source": [
    "partial_result , job_status = backend.get_partial_result(handle)\n",
    "\n",
    "print(partial_result.get_counts())"
   ]
  },
  {
   "cell_type": "markdown",
   "metadata": {},
   "source": [
    "### Save Results \n",
    "\n",
    "Please save your results, because Quantinuum won't"
   ]
  },
  {
   "cell_type": "code",
   "execution_count": 34,
   "metadata": {},
   "outputs": [],
   "source": [
    "import json\n",
    "with open('first.json', 'w') as f:\n",
    "    json.dump(result.to_dict(), f)"
   ]
  },
  {
   "cell_type": "markdown",
   "metadata": {},
   "source": [
    "This result can be loaded to their original format using `BackendResult.from_dict`"
   ]
  },
  {
   "cell_type": "code",
   "execution_count": 35,
   "metadata": {},
   "outputs": [],
   "source": [
    "from pytket.backends.backendresult import BackendResult\n",
    "\n",
    "with open('first.json', 'r') as f:\n",
    "    data = json.load(f)\n",
    "\n",
    "result = BackendResult.from_dict(data)"
   ]
  },
  {
   "cell_type": "markdown",
   "metadata": {},
   "source": [
    "### Analyze Results\n",
    "\n",
    "There are multiple options for analyzintg results with pytket"
   ]
  },
  {
   "cell_type": "code",
   "execution_count": 36,
   "metadata": {},
   "outputs": [
    {
     "name": "stdout",
     "output_type": "stream",
     "text": [
      "Counter({(1, 1): 51, (0, 0): 49})\n",
      "{(0, 0): 0.49, (1, 1): 0.51}\n"
     ]
    }
   ],
   "source": [
    "result = backend.get_result(handle)\n",
    "print(result.get_counts())\n",
    "print(result.get_distribution())\n"
   ]
  },
  {
   "cell_type": "markdown",
   "metadata": {},
   "source": [
    "### Cancelling the Jobs\n",
    "\n",
    "JObs that are submitted can be cancelled"
   ]
  },
  {
   "cell_type": "code",
   "execution_count": 37,
   "metadata": {},
   "outputs": [
    {
     "ename": "QuantinuumAPIError",
     "evalue": "HTTP error attempting: job cancel.\n\nServer Response: {'error': {'code': 22, 'message': 'Error: job has completed already'}}",
     "output_type": "error",
     "traceback": [
      "\u001b[1;31m---------------------------------------------------------------------------\u001b[0m",
      "\u001b[1;31mQuantinuumAPIError\u001b[0m                        Traceback (most recent call last)",
      "\u001b[1;32mc:\\Users\\monitsharma\\Downloads\\quantinuum\\advanced\\circuit_submission.ipynb Cell 40\u001b[0m line \u001b[0;36m1\n\u001b[1;32m----> <a href='vscode-notebook-cell:/c%3A/Users/monitsharma/Downloads/quantinuum/advanced/circuit_submission.ipynb#X56sZmlsZQ%3D%3D?line=0'>1</a>\u001b[0m backend\u001b[39m.\u001b[39;49mcancel(handle)  \n",
      "File \u001b[1;32m~\\AppData\\Local\\Packages\\PythonSoftwareFoundation.Python.3.11_qbz5n2kfra8p0\\LocalCache\\local-packages\\Python311\\site-packages\\pytket\\extensions\\quantinuum\\backends\\quantinuum.py:983\u001b[0m, in \u001b[0;36mQuantinuumBackend.cancel\u001b[1;34m(self, handle)\u001b[0m\n\u001b[0;32m    981\u001b[0m \u001b[39mif\u001b[39;00m \u001b[39mself\u001b[39m\u001b[39m.\u001b[39mapi_handler \u001b[39mis\u001b[39;00m \u001b[39mnot\u001b[39;00m \u001b[39mNone\u001b[39;00m:\n\u001b[0;32m    982\u001b[0m     jobid \u001b[39m=\u001b[39m \u001b[39mself\u001b[39m\u001b[39m.\u001b[39mget_jobid(handle)\n\u001b[1;32m--> 983\u001b[0m     \u001b[39mself\u001b[39;49m\u001b[39m.\u001b[39;49mapi_handler\u001b[39m.\u001b[39;49mcancel(jobid)\n",
      "File \u001b[1;32m~\\AppData\\Local\\Packages\\PythonSoftwareFoundation.Python.3.11_qbz5n2kfra8p0\\LocalCache\\local-packages\\Python311\\site-packages\\pytket\\extensions\\quantinuum\\backends\\api_wrappers.py:491\u001b[0m, in \u001b[0;36mQuantinuumAPI.cancel\u001b[1;34m(self, job_id)\u001b[0m\n\u001b[0;32m    487\u001b[0m id_token \u001b[39m=\u001b[39m \u001b[39mself\u001b[39m\u001b[39m.\u001b[39mlogin()\n\u001b[0;32m    488\u001b[0m res \u001b[39m=\u001b[39m \u001b[39mself\u001b[39m\u001b[39m.\u001b[39msession\u001b[39m.\u001b[39mpost(\n\u001b[0;32m    489\u001b[0m     \u001b[39mf\u001b[39m\u001b[39m\"\u001b[39m\u001b[39m{\u001b[39;00m\u001b[39mself\u001b[39m\u001b[39m.\u001b[39murl\u001b[39m}\u001b[39;00m\u001b[39mjob/\u001b[39m\u001b[39m{\u001b[39;00mjob_id\u001b[39m}\u001b[39;00m\u001b[39m/cancel\u001b[39m\u001b[39m\"\u001b[39m, headers\u001b[39m=\u001b[39m{\u001b[39m\"\u001b[39m\u001b[39mAuthorization\u001b[39m\u001b[39m\"\u001b[39m: id_token}\n\u001b[0;32m    490\u001b[0m )\n\u001b[1;32m--> 491\u001b[0m \u001b[39mself\u001b[39;49m\u001b[39m.\u001b[39;49m_response_check(res, \u001b[39m\"\u001b[39;49m\u001b[39mjob cancel\u001b[39;49m\u001b[39m\"\u001b[39;49m)\n\u001b[0;32m    492\u001b[0m jr \u001b[39m=\u001b[39m res\u001b[39m.\u001b[39mjson()\n\u001b[0;32m    494\u001b[0m \u001b[39mreturn\u001b[39;00m jr\n",
      "File \u001b[1;32m~\\AppData\\Local\\Packages\\PythonSoftwareFoundation.Python.3.11_qbz5n2kfra8p0\\LocalCache\\local-packages\\Python311\\site-packages\\pytket\\extensions\\quantinuum\\backends\\api_wrappers.py:320\u001b[0m, in \u001b[0;36mQuantinuumAPI._response_check\u001b[1;34m(self, res, description)\u001b[0m\n\u001b[0;32m    318\u001b[0m \u001b[39melif\u001b[39;00m res\u001b[39m.\u001b[39mstatus_code \u001b[39m!=\u001b[39m HTTPStatus\u001b[39m.\u001b[39mOK:\n\u001b[0;32m    319\u001b[0m     jr \u001b[39m=\u001b[39m res\u001b[39m.\u001b[39mjson()\n\u001b[1;32m--> 320\u001b[0m     \u001b[39mraise\u001b[39;00m QuantinuumAPIError(\n\u001b[0;32m    321\u001b[0m         \u001b[39mf\u001b[39m\u001b[39m\"\u001b[39m\u001b[39mHTTP error attempting: \u001b[39m\u001b[39m{\u001b[39;00mdescription\u001b[39m}\u001b[39;00m\u001b[39m.\u001b[39m\u001b[39m\\n\u001b[39;00m\u001b[39m\\n\u001b[39;00m\u001b[39mServer Response: \u001b[39m\u001b[39m{\u001b[39;00mjr\u001b[39m}\u001b[39;00m\u001b[39m\"\u001b[39m\n\u001b[0;32m    322\u001b[0m     )\n",
      "\u001b[1;31mQuantinuumAPIError\u001b[0m: HTTP error attempting: job cancel.\n\nServer Response: {'error': {'code': 22, 'message': 'Error: job has completed already'}}"
     ]
    }
   ],
   "source": [
    "# it will only work if the job hasn't finished yet\n",
    "backend.cancel(handle)  "
   ]
  },
  {
   "cell_type": "markdown",
   "metadata": {},
   "source": [
    "## Additional Features\n",
    "\n",
    "\n",
    "#### Extended Circuit Compilation\n",
    "\n"
   ]
  },
  {
   "cell_type": "markdown",
   "metadata": {},
   "source": [
    "The submission below specifies this in the get_compiled_circuit function with optimization level 1. Because the circuit is optimized beforehand, the TKET optimization in the H-Series stack should be turned off. The value tket-opt-level:None turns off TKET optimization in the H-Series stack."
   ]
  },
  {
   "cell_type": "code",
   "execution_count": 38,
   "metadata": {},
   "outputs": [
    {
     "name": "stdout",
     "output_type": "stream",
     "text": [
      "('7e42a1fb1db544b7ae8b384df726fec1', 'null', 2, '[[\"c\", 0], [\"c\", 1]]')\n"
     ]
    }
   ],
   "source": [
    "compiled_circ = backend.get_compiled_circuit(circ,optimisation_level=1)\n",
    "\n",
    "handle = backend.process_circuit(compiled_circ, n_shots=n_shots, optiuons = {'tket-opt-level':None})\n",
    "\n",
    "print(handle)"
   ]
  },
  {
   "cell_type": "code",
   "execution_count": 39,
   "metadata": {},
   "outputs": [
    {
     "name": "stdout",
     "output_type": "stream",
     "text": [
      "('b75f47a7ab6b4aac831bf883bd9e7edc', 'null', 2, '[[\"c\", 0], [\"c\", 1]]')\n"
     ]
    }
   ],
   "source": [
    "compiled_circ = backend.get_compiled_circuit(circ,optimisation_level=0)\n",
    "handle = backend.process_circuit(compiled_circ, n_shots=n_shots, optiuons = {'tket-opt-level':None})\n",
    "\n",
    "print(handle)"
   ]
  },
  {
   "cell_type": "markdown",
   "metadata": {},
   "source": [
    "### Batch Submission\n",
    "\n",
    "The batch feature on Quantinuum systems gives users the ability to create \"ad-hoc\" reservations. Circuits submitted together in a batch will run at one time. The benefit to users is that once a batch hits the front of the queue, jobs in a batch will run uninterrupted until they are completed.\n",
    "\n",
    "Once a batch is submitted, jobs can continue to be added to the batch, ending either when the user signifies the end of a batch or after 1 minute of inactivity.\n",
    "\n",
    "Batches cannot exceed the maximum limit of 2,000 H-System Quantum Credits (HQCs) total. If the total HQCs for jobs in a batch hit this limit or a smaller limit set by the user, those jobs will not be cancelled. Instead, they will continue to run as regular jobs in the queue instead of as a batch.\n",
    "\n",
    "Currently only the quantum computer and emulator targets support the batching feature. Batching is not supported on the syntax checkers."
   ]
  },
  {
   "cell_type": "code",
   "execution_count": 40,
   "metadata": {},
   "outputs": [],
   "source": [
    "machine = 'H1-1E'\n",
    "n_shots = 100\n",
    "max_batch_cost = 100\n",
    "\n",
    "backend = QuantinuumBackend(device_name = machine)\n",
    "\n",
    "batch1 = backend.start_batch(n_shots=n_shots, max_batch_cost=max_batch_cost,circuit=compiled_circ)"
   ]
  },
  {
   "cell_type": "markdown",
   "metadata": {},
   "source": [
    "Additional jobs can be added to the batch using the `add_to_batch` function. The end of a batch can optionally be specified with the `batch_end` flag."
   ]
  },
  {
   "cell_type": "code",
   "execution_count": 41,
   "metadata": {},
   "outputs": [],
   "source": [
    "batch2 = backend.add_to_batch(batch1, compiled_circ, n_shots=n_shots)\n",
    "batch3 = backend.add_to_batch(batch1, compiled_circ, n_shots=n_shots, batch_end=True)"
   ]
  },
  {
   "cell_type": "code",
   "execution_count": 42,
   "metadata": {},
   "outputs": [
    {
     "data": {
      "text/plain": [
       "[CircuitStatus(status=<StatusEnum.COMPLETED: 'Circuit has completed. Results are ready.'>, message='{\"name\": \"Bell Test\", \"submit-date\": \"2023-11-07T06:20:17.722238\", \"result-date\": \"2023-11-07T06:20:26.518390\", \"queue-position\": null, \"cost\": \"5.66\", \"error\": null}', error_detail=None, completed_time=None, queued_time=None, submitted_time=None, running_time=None, cancelled_time=None, error_time=None, queue_position=None),\n",
       " CircuitStatus(status=<StatusEnum.COMPLETED: 'Circuit has completed. Results are ready.'>, message='{\"name\": \"Bell Test\", \"submit-date\": \"2023-11-07T06:21:00.031829\", \"result-date\": \"2023-11-07T06:21:06.338484\", \"queue-position\": null, \"cost\": \"5.66\", \"error\": null}', error_detail=None, completed_time=None, queued_time=None, submitted_time=None, running_time=None, cancelled_time=None, error_time=None, queue_position=None),\n",
       " CircuitStatus(status=<StatusEnum.COMPLETED: 'Circuit has completed. Results are ready.'>, message='{\"name\": \"Bell Test\", \"submit-date\": \"2023-11-07T06:21:00.367561\", \"result-date\": \"2023-11-07T06:21:09.439207\", \"queue-position\": null, \"cost\": \"5.66\", \"error\": null}', error_detail=None, completed_time=None, queued_time=None, submitted_time=None, running_time=None, cancelled_time=None, error_time=None, queue_position=None)]"
      ]
     },
     "execution_count": 42,
     "metadata": {},
     "output_type": "execute_result"
    }
   ],
   "source": [
    "handle_list = [batch1, batch2, batch3]\n",
    "\n",
    "status_list = [backend.circuit_status(h) for h in handle_list]\n",
    "\n",
    "status_list"
   ]
  },
  {
   "cell_type": "code",
   "execution_count": 43,
   "metadata": {},
   "outputs": [],
   "source": [
    "results = backend.get_results(handle_list)"
   ]
  },
  {
   "cell_type": "code",
   "execution_count": 44,
   "metadata": {},
   "outputs": [
    {
     "name": "stdout",
     "output_type": "stream",
     "text": [
      "Counter({(1, 1): 58, (0, 0): 41, (0, 1): 1})\n",
      "Counter({(0, 0): 57, (1, 1): 43})\n",
      "Counter({(0, 0): 50, (1, 1): 50})\n"
     ]
    }
   ],
   "source": [
    "for result in results:\n",
    "    print(result.get_counts())"
   ]
  },
  {
   "cell_type": "markdown",
   "metadata": {},
   "source": [
    "## Parametrized Circuits\n",
    "\n",
    "They are very common in variational algotrithms"
   ]
  },
  {
   "cell_type": "code",
   "execution_count": 45,
   "metadata": {},
   "outputs": [
    {
     "data": {
      "text/html": [
       "\n",
       "\n",
       "\n",
       "\n",
       "\n",
       "\n",
       "<div style=\"resize: vertical; overflow: auto; height: 400px; display: block\">\n",
       "    <iframe srcdoc=\"\n",
       "&lt;!DOCTYPE html&gt;\n",
       "&lt;html lang=&#34;en&#34;&gt;\n",
       "&lt;head&gt;\n",
       "    &lt;meta charset=&#34;UTF-8&#34;&gt;\n",
       "    &lt;!-- Download Vue 3--&gt;\n",
       "&lt;script type=&#34;application/javascript&#34; src=&#34;https://cdn.jsdelivr.net/npm/vue@3&#34;&gt;&lt;/script&gt;\n",
       "&lt;!-- Download Circuit Renderer with styles --&gt;\n",
       "&lt;script type=&#34;application/javascript&#34; src=&#34;https://unpkg.com/pytket-circuit-renderer@0.7/dist/pytket-circuit-renderer.umd.js&#34;&gt;&lt;/script&gt;\n",
       "&lt;link rel=&#34;stylesheet&#34; href=&#34;https://unpkg.com/pytket-circuit-renderer@0.7/dist/pytket-circuit-renderer.css&#34;&gt;\n",
       "&lt;/head&gt;\n",
       "&lt;body&gt;\n",
       "\n",
       "\n",
       "\n",
       "    &lt;div id=&#34;circuit-display-vue-container-735f9bb3-497a-4e29-b595-fb0dfd0f93fa&#34; class=&#34;pytket-circuit-display-container&#34;&gt;\n",
       "        &lt;div style=&#34;display: none&#34;&gt;\n",
       "            &lt;div id=&#34;circuit-json-to-display&#34;&gt;{&#34;bits&#34;: [], &#34;commands&#34;: [{&#34;args&#34;: [[&#34;q&#34;, [0]]], &#34;op&#34;: {&#34;type&#34;: &#34;X&#34;}}, {&#34;args&#34;: [[&#34;q&#34;, [0]], [&#34;q&#34;, [1]]], &#34;op&#34;: {&#34;type&#34;: &#34;CX&#34;}}, {&#34;args&#34;: [[&#34;q&#34;, [1]], [&#34;q&#34;, [2]]], &#34;op&#34;: {&#34;type&#34;: &#34;CX&#34;}}, {&#34;args&#34;: [[&#34;q&#34;, [2]]], &#34;op&#34;: {&#34;params&#34;: [&#34;a&#34;], &#34;type&#34;: &#34;Rz&#34;}}, {&#34;args&#34;: [[&#34;q&#34;, [1]], [&#34;q&#34;, [2]]], &#34;op&#34;: {&#34;type&#34;: &#34;CX&#34;}}, {&#34;args&#34;: [[&#34;q&#34;, [0]], [&#34;q&#34;, [1]]], &#34;op&#34;: {&#34;type&#34;: &#34;CX&#34;}}], &#34;created_qubits&#34;: [], &#34;discarded_qubits&#34;: [], &#34;implicit_permutation&#34;: [[[&#34;q&#34;, [0]], [&#34;q&#34;, [0]]], [[&#34;q&#34;, [1]], [&#34;q&#34;, [1]]], [[&#34;q&#34;, [2]], [&#34;q&#34;, [2]]]], &#34;name&#34;: &#34;parameterized circuit&#34;, &#34;phase&#34;: &#34;0.0&#34;, &#34;qubits&#34;: [[&#34;q&#34;, [0]], [&#34;q&#34;, [1]], [&#34;q&#34;, [2]]]}&lt;/div&gt;\n",
       "        &lt;/div&gt;\n",
       "        &lt;circuit-display-container\n",
       "                :circuit-element-str=&#34;&#39;#circuit-json-to-display&#39;&#34;\n",
       "                :init-render-options=&#34;initRenderOptions&#34;\n",
       "        &gt;&lt;/circuit-display-container&gt;\n",
       "    &lt;/div&gt;\n",
       "    &lt;script type=&#34;application/javascript&#34;&gt;\n",
       "      const circuitRendererUid = &#34;735f9bb3-497a-4e29-b595-fb0dfd0f93fa&#34;;\n",
       "      const displayOptions = JSON.parse(&#39;{}&#39;);\n",
       "\n",
       "      // Script to initialise the circuit renderer app\r\n",
       "\r\n",
       "const { createApp } = Vue;\r\n",
       "const circuitDisplayContainer = window[&#34;pytket-circuit-renderer&#34;].default;\r\n",
       "// Init variables to be shared between circuit display instances\r\n",
       "if (typeof window.pytketCircuitDisplays === &#34;undefined&#34;) {\r\n",
       "    window.pytketCircuitDisplays = {};\r\n",
       "}\r\n",
       "// Create the root Vue component\r\n",
       "const app = createApp({\r\n",
       "    delimiters: [&#39;[[#&#39;, &#39;#]]&#39;],\r\n",
       "    components: { circuitDisplayContainer },\r\n",
       "    data () {\r\n",
       "      return {\r\n",
       "        initRenderOptions: displayOptions,\r\n",
       "      }\r\n",
       "    }\r\n",
       "})\r\n",
       "app.config.unwrapInjectedRef = true;\r\n",
       "app.mount(&#34;#circuit-display-vue-container-&#34;+circuitRendererUid);\r\n",
       "window.pytketCircuitDisplays[circuitRendererUid] = app;\n",
       "    &lt;/script&gt;\n",
       "\n",
       "\n",
       "\n",
       "&lt;/body&gt;\n",
       "&lt;/html&gt;\n",
       "\"\n",
       "            width=\"100%\" height=\"100%\"\n",
       "            style=\"border: none; outline: none; overflow: auto\"></iframe>\n",
       "</div>\n",
       "\n"
      ],
      "text/plain": [
       "<IPython.core.display.HTML object>"
      ]
     },
     "metadata": {},
     "output_type": "display_data"
    }
   ],
   "source": [
    "from pytket.circuit import fresh_symbol\n",
    "\n",
    "# set up a paramaterized circuit\n",
    "a = fresh_symbol(\"a\")\n",
    "circuit = Circuit(3,name =\"parameterized circuit\")\n",
    "circuit.X(0)\n",
    "circuit.CX(0,1).CX(1,2)\n",
    "circuit.Rz(a,2)\n",
    "circuit.CX(1,2).CX(0,1)\n",
    "\n",
    "render_circuit_jupyter(circuit)"
   ]
  },
  {
   "cell_type": "code",
   "execution_count": 46,
   "metadata": {},
   "outputs": [
    {
     "data": {
      "text/html": [
       "\n",
       "\n",
       "\n",
       "\n",
       "\n",
       "\n",
       "<div style=\"resize: vertical; overflow: auto; height: 400px; display: block\">\n",
       "    <iframe srcdoc=\"\n",
       "&lt;!DOCTYPE html&gt;\n",
       "&lt;html lang=&#34;en&#34;&gt;\n",
       "&lt;head&gt;\n",
       "    &lt;meta charset=&#34;UTF-8&#34;&gt;\n",
       "    &lt;!-- Download Vue 3--&gt;\n",
       "&lt;script type=&#34;application/javascript&#34; src=&#34;https://cdn.jsdelivr.net/npm/vue@3&#34;&gt;&lt;/script&gt;\n",
       "&lt;!-- Download Circuit Renderer with styles --&gt;\n",
       "&lt;script type=&#34;application/javascript&#34; src=&#34;https://unpkg.com/pytket-circuit-renderer@0.7/dist/pytket-circuit-renderer.umd.js&#34;&gt;&lt;/script&gt;\n",
       "&lt;link rel=&#34;stylesheet&#34; href=&#34;https://unpkg.com/pytket-circuit-renderer@0.7/dist/pytket-circuit-renderer.css&#34;&gt;\n",
       "&lt;/head&gt;\n",
       "&lt;body&gt;\n",
       "\n",
       "\n",
       "\n",
       "    &lt;div id=&#34;circuit-display-vue-container-978a8655-686c-41f5-8453-5cfa9f72c9bf&#34; class=&#34;pytket-circuit-display-container&#34;&gt;\n",
       "        &lt;div style=&#34;display: none&#34;&gt;\n",
       "            &lt;div id=&#34;circuit-json-to-display&#34;&gt;{&#34;bits&#34;: [[&#34;c&#34;, [0]], [&#34;c&#34;, [1]]], &#34;commands&#34;: [{&#34;args&#34;: [[&#34;q&#34;, [0]]], &#34;op&#34;: {&#34;params&#34;: [&#34;1&#34;], &#34;type&#34;: &#34;Rz&#34;}}, {&#34;args&#34;: [[&#34;q&#34;, [1]]], &#34;op&#34;: {&#34;params&#34;: [&#34;1&#34;], &#34;type&#34;: &#34;Rz&#34;}}, {&#34;args&#34;: [[&#34;q&#34;, [0]]], &#34;op&#34;: {&#34;params&#34;: [&#34;1/2&#34;, &#34;1/2&#34;], &#34;type&#34;: &#34;PhasedX&#34;}}, {&#34;args&#34;: [[&#34;q&#34;, [1]]], &#34;op&#34;: {&#34;params&#34;: [&#34;1.5&#34;, &#34;1/2&#34;], &#34;type&#34;: &#34;PhasedX&#34;}}, {&#34;args&#34;: [[&#34;q&#34;, [0]]], &#34;op&#34;: {&#34;params&#34;: [&#34;1&#34;], &#34;type&#34;: &#34;Rz&#34;}}, {&#34;args&#34;: [[&#34;q&#34;, [0]], [&#34;q&#34;, [1]]], &#34;op&#34;: {&#34;params&#34;: [&#34;0.5&#34;], &#34;type&#34;: &#34;ZZPhase&#34;}}, {&#34;args&#34;: [[&#34;q&#34;, [0]]], &#34;op&#34;: {&#34;params&#34;: [&#34;3/2&#34;], &#34;type&#34;: &#34;Rz&#34;}}, {&#34;args&#34;: [[&#34;q&#34;, [1]]], &#34;op&#34;: {&#34;params&#34;: [&#34;1/2&#34;], &#34;type&#34;: &#34;Rz&#34;}}, {&#34;args&#34;: [[&#34;q&#34;, [0]], [&#34;c&#34;, [0]]], &#34;op&#34;: {&#34;type&#34;: &#34;Measure&#34;}}, {&#34;args&#34;: [[&#34;q&#34;, [1]]], &#34;op&#34;: {&#34;params&#34;: [&#34;1.5&#34;, &#34;1/2&#34;], &#34;type&#34;: &#34;PhasedX&#34;}}, {&#34;args&#34;: [[&#34;q&#34;, [0]], [&#34;c&#34;, [0]]], &#34;op&#34;: {&#34;type&#34;: &#34;Measure&#34;}}, {&#34;args&#34;: [[&#34;q&#34;, [1]], [&#34;c&#34;, [1]]], &#34;op&#34;: {&#34;type&#34;: &#34;Measure&#34;}}, {&#34;args&#34;: [[&#34;q&#34;, [1]], [&#34;c&#34;, [1]]], &#34;op&#34;: {&#34;type&#34;: &#34;Measure&#34;}}], &#34;created_qubits&#34;: [], &#34;discarded_qubits&#34;: [], &#34;implicit_permutation&#34;: [[[&#34;q&#34;, [0]], [&#34;q&#34;, [0]]], [[&#34;q&#34;, [1]], [&#34;q&#34;, [1]]]], &#34;name&#34;: &#34;Bell Test&#34;, &#34;phase&#34;: &#34;0.75&#34;, &#34;qubits&#34;: [[&#34;q&#34;, [0]], [&#34;q&#34;, [1]]]}&lt;/div&gt;\n",
       "        &lt;/div&gt;\n",
       "        &lt;circuit-display-container\n",
       "                :circuit-element-str=&#34;&#39;#circuit-json-to-display&#39;&#34;\n",
       "                :init-render-options=&#34;initRenderOptions&#34;\n",
       "        &gt;&lt;/circuit-display-container&gt;\n",
       "    &lt;/div&gt;\n",
       "    &lt;script type=&#34;application/javascript&#34;&gt;\n",
       "      const circuitRendererUid = &#34;978a8655-686c-41f5-8453-5cfa9f72c9bf&#34;;\n",
       "      const displayOptions = JSON.parse(&#39;{}&#39;);\n",
       "\n",
       "      // Script to initialise the circuit renderer app\r\n",
       "\r\n",
       "const { createApp } = Vue;\r\n",
       "const circuitDisplayContainer = window[&#34;pytket-circuit-renderer&#34;].default;\r\n",
       "// Init variables to be shared between circuit display instances\r\n",
       "if (typeof window.pytketCircuitDisplays === &#34;undefined&#34;) {\r\n",
       "    window.pytketCircuitDisplays = {};\r\n",
       "}\r\n",
       "// Create the root Vue component\r\n",
       "const app = createApp({\r\n",
       "    delimiters: [&#39;[[#&#39;, &#39;#]]&#39;],\r\n",
       "    components: { circuitDisplayContainer },\r\n",
       "    data () {\r\n",
       "      return {\r\n",
       "        initRenderOptions: displayOptions,\r\n",
       "      }\r\n",
       "    }\r\n",
       "})\r\n",
       "app.config.unwrapInjectedRef = true;\r\n",
       "app.mount(&#34;#circuit-display-vue-container-&#34;+circuitRendererUid);\r\n",
       "window.pytketCircuitDisplays[circuitRendererUid] = app;\n",
       "    &lt;/script&gt;\n",
       "\n",
       "\n",
       "\n",
       "&lt;/body&gt;\n",
       "&lt;/html&gt;\n",
       "\"\n",
       "            width=\"100%\" height=\"100%\"\n",
       "            style=\"border: none; outline: none; overflow: auto\"></iframe>\n",
       "</div>\n",
       "\n"
      ],
      "text/plain": [
       "<IPython.core.display.HTML object>"
      ]
     },
     "metadata": {},
     "output_type": "display_data"
    }
   ],
   "source": [
    "simulation_circuit = circ.copy()\n",
    "simulation_circuit.measure_all()\n",
    "simulation_circuit.symbol_substitution({a:0.5})\n",
    "\n",
    "# compile the circuit\n",
    "compiled_circuit = backend.get_compiled_circuit(simulation_circuit,optimisation_level=0)\n",
    "\n",
    "render_circuit_jupyter(compiled_circuit)"
   ]
  },
  {
   "cell_type": "markdown",
   "metadata": {},
   "source": [
    "#### Getting the cost !"
   ]
  },
  {
   "cell_type": "code",
   "execution_count": 47,
   "metadata": {},
   "outputs": [
    {
     "data": {
      "text/plain": [
       "5.86"
      ]
     },
     "execution_count": 47,
     "metadata": {},
     "output_type": "execute_result"
    }
   ],
   "source": [
    "n_shots = 100\n",
    "backend.cost(compiled_circuit, n_shots=n_shots, syntax_checker='H1-1E')"
   ]
  },
  {
   "cell_type": "code",
   "execution_count": 48,
   "metadata": {},
   "outputs": [],
   "source": [
    "handle = backend.process_circuit(compiled_circuit, n_shots=n_shots, optiuons = {'tket-opt-level':None})"
   ]
  },
  {
   "cell_type": "code",
   "execution_count": 49,
   "metadata": {},
   "outputs": [
    {
     "name": "stdout",
     "output_type": "stream",
     "text": [
      "CircuitStatus(status=<StatusEnum.COMPLETED: 'Circuit has completed. Results are ready.'>, message='{\"name\": \"Bell Test\", \"submit-date\": \"2023-11-07T06:57:06.470334\", \"result-date\": \"2023-11-07T06:57:13.424982\", \"queue-position\": null, \"cost\": \"5.86\", \"error\": null}', error_detail=None, completed_time=None, queued_time=None, submitted_time=None, running_time=None, cancelled_time=None, error_time=None, queue_position=None)\n"
     ]
    }
   ],
   "source": [
    "status = backend.circuit_status(handle)\n",
    "print(status)"
   ]
  },
  {
   "cell_type": "code",
   "execution_count": 50,
   "metadata": {},
   "outputs": [],
   "source": [
    "result = backend.get_result(handle)"
   ]
  },
  {
   "cell_type": "code",
   "execution_count": 51,
   "metadata": {},
   "outputs": [
    {
     "name": "stdout",
     "output_type": "stream",
     "text": [
      "Counter({(1, 1): 57, (0, 0): 41, (0, 1): 2})\n"
     ]
    }
   ],
   "source": [
    "print(result.get_counts())"
   ]
  },
  {
   "cell_type": "markdown",
   "metadata": {},
   "source": [
    "### Conditional Gates\n",
    "\n",
    "Pytket supports conditional gates. This may be for implementing error correction or reducing noise. this capability is well-supported by Quantinuum hardware, which supports mid-circuit measurement and qubit reuse."
   ]
  },
  {
   "cell_type": "code",
   "execution_count": 52,
   "metadata": {},
   "outputs": [
    {
     "data": {
      "text/html": [
       "\n",
       "\n",
       "\n",
       "\n",
       "\n",
       "\n",
       "<div style=\"resize: vertical; overflow: auto; height: 400px; display: block\">\n",
       "    <iframe srcdoc=\"\n",
       "&lt;!DOCTYPE html&gt;\n",
       "&lt;html lang=&#34;en&#34;&gt;\n",
       "&lt;head&gt;\n",
       "    &lt;meta charset=&#34;UTF-8&#34;&gt;\n",
       "    &lt;!-- Download Vue 3--&gt;\n",
       "&lt;script type=&#34;application/javascript&#34; src=&#34;https://cdn.jsdelivr.net/npm/vue@3&#34;&gt;&lt;/script&gt;\n",
       "&lt;!-- Download Circuit Renderer with styles --&gt;\n",
       "&lt;script type=&#34;application/javascript&#34; src=&#34;https://unpkg.com/pytket-circuit-renderer@0.7/dist/pytket-circuit-renderer.umd.js&#34;&gt;&lt;/script&gt;\n",
       "&lt;link rel=&#34;stylesheet&#34; href=&#34;https://unpkg.com/pytket-circuit-renderer@0.7/dist/pytket-circuit-renderer.css&#34;&gt;\n",
       "&lt;/head&gt;\n",
       "&lt;body&gt;\n",
       "\n",
       "\n",
       "\n",
       "    &lt;div id=&#34;circuit-display-vue-container-58119afe-aa9d-4d78-a48e-e2b980941259&#34; class=&#34;pytket-circuit-display-container&#34;&gt;\n",
       "        &lt;div style=&#34;display: none&#34;&gt;\n",
       "            &lt;div id=&#34;circuit-json-to-display&#34;&gt;{&#34;bits&#34;: [[&#34;c&#34;, [0]], [&#34;c&#34;, [1]]], &#34;commands&#34;: [{&#34;args&#34;: [[&#34;q&#34;, [0]]], &#34;op&#34;: {&#34;type&#34;: &#34;X&#34;}}, {&#34;args&#34;: [[&#34;q&#34;, [1]]], &#34;op&#34;: {&#34;type&#34;: &#34;H&#34;}}, {&#34;args&#34;: [[&#34;q&#34;, [0]]], &#34;op&#34;: {&#34;type&#34;: &#34;H&#34;}}, {&#34;args&#34;: [[&#34;q&#34;, [1]], [&#34;q&#34;, [2]]], &#34;op&#34;: {&#34;type&#34;: &#34;CX&#34;}}, {&#34;args&#34;: [[&#34;q&#34;, [0]], [&#34;q&#34;, [1]]], &#34;op&#34;: {&#34;type&#34;: &#34;CX&#34;}}, {&#34;args&#34;: [[&#34;q&#34;, [1]], [&#34;c&#34;, [1]]], &#34;op&#34;: {&#34;type&#34;: &#34;Measure&#34;}}, {&#34;args&#34;: [[&#34;q&#34;, [0]]], &#34;op&#34;: {&#34;type&#34;: &#34;H&#34;}}, {&#34;args&#34;: [[&#34;q&#34;, [0]], [&#34;c&#34;, [0]]], &#34;op&#34;: {&#34;type&#34;: &#34;Measure&#34;}}, {&#34;args&#34;: [[&#34;c&#34;, [1]], [&#34;q&#34;, [2]]], &#34;op&#34;: {&#34;conditional&#34;: {&#34;op&#34;: {&#34;type&#34;: &#34;X&#34;}, &#34;value&#34;: 1, &#34;width&#34;: 1}, &#34;type&#34;: &#34;Conditional&#34;}}, {&#34;args&#34;: [[&#34;c&#34;, [0]], [&#34;q&#34;, [2]]], &#34;op&#34;: {&#34;conditional&#34;: {&#34;op&#34;: {&#34;type&#34;: &#34;Z&#34;}, &#34;value&#34;: 1, &#34;width&#34;: 1}, &#34;type&#34;: &#34;Conditional&#34;}}], &#34;created_qubits&#34;: [], &#34;discarded_qubits&#34;: [], &#34;implicit_permutation&#34;: [[[&#34;q&#34;, [0]], [&#34;q&#34;, [0]]], [[&#34;q&#34;, [1]], [&#34;q&#34;, [1]]], [[&#34;q&#34;, [2]], [&#34;q&#34;, [2]]]], &#34;name&#34;: &#34;conditional circuit&#34;, &#34;phase&#34;: &#34;0.0&#34;, &#34;qubits&#34;: [[&#34;q&#34;, [0]], [&#34;q&#34;, [1]], [&#34;q&#34;, [2]]]}&lt;/div&gt;\n",
       "        &lt;/div&gt;\n",
       "        &lt;circuit-display-container\n",
       "                :circuit-element-str=&#34;&#39;#circuit-json-to-display&#39;&#34;\n",
       "                :init-render-options=&#34;initRenderOptions&#34;\n",
       "        &gt;&lt;/circuit-display-container&gt;\n",
       "    &lt;/div&gt;\n",
       "    &lt;script type=&#34;application/javascript&#34;&gt;\n",
       "      const circuitRendererUid = &#34;58119afe-aa9d-4d78-a48e-e2b980941259&#34;;\n",
       "      const displayOptions = JSON.parse(&#39;{}&#39;);\n",
       "\n",
       "      // Script to initialise the circuit renderer app\r\n",
       "\r\n",
       "const { createApp } = Vue;\r\n",
       "const circuitDisplayContainer = window[&#34;pytket-circuit-renderer&#34;].default;\r\n",
       "// Init variables to be shared between circuit display instances\r\n",
       "if (typeof window.pytketCircuitDisplays === &#34;undefined&#34;) {\r\n",
       "    window.pytketCircuitDisplays = {};\r\n",
       "}\r\n",
       "// Create the root Vue component\r\n",
       "const app = createApp({\r\n",
       "    delimiters: [&#39;[[#&#39;, &#39;#]]&#39;],\r\n",
       "    components: { circuitDisplayContainer },\r\n",
       "    data () {\r\n",
       "      return {\r\n",
       "        initRenderOptions: displayOptions,\r\n",
       "      }\r\n",
       "    }\r\n",
       "})\r\n",
       "app.config.unwrapInjectedRef = true;\r\n",
       "app.mount(&#34;#circuit-display-vue-container-&#34;+circuitRendererUid);\r\n",
       "window.pytketCircuitDisplays[circuitRendererUid] = app;\n",
       "    &lt;/script&gt;\n",
       "\n",
       "\n",
       "\n",
       "&lt;/body&gt;\n",
       "&lt;/html&gt;\n",
       "\"\n",
       "            width=\"100%\" height=\"100%\"\n",
       "            style=\"border: none; outline: none; overflow: auto\"></iframe>\n",
       "</div>\n",
       "\n"
      ],
      "text/plain": [
       "<IPython.core.display.HTML object>"
      ]
     },
     "metadata": {},
     "output_type": "display_data"
    }
   ],
   "source": [
    "from pytket.circuit import Circuit, if_bit\n",
    "\n",
    "# crerate the circuit\n",
    "\n",
    "circ = Circuit(name = \"conditional circuit\")\n",
    "qreg = circ.add_q_register(\"q\", 3)\n",
    "creg = circ.add_c_register(\"c\", 2)\n",
    "\n",
    "# prepare q0 to be |->\n",
    "circ.X(qreg[0]).H(qreg[0])\n",
    "\n",
    "#prepare a Bell state\n",
    "\n",
    "circ.H(qreg[1])\n",
    "circ.CX(qreg[1],qreg[2])\n",
    "\n",
    "\n",
    "# construct the teleportation\n",
    "\n",
    "circ.CX(qreg[0],qreg[1])\n",
    "circ.H(qreg[0])\n",
    "circ.Measure(qreg[0],creg[0]).Measure(qreg[1],creg[1])\n",
    "\n",
    "# if (creq[1] == 1)\n",
    "circ.X(qreg[2], condition= if_bit(creg[1]))\n",
    "\n",
    "circ.Z(qreg[2], condition= if_bit(creg[0]))\n",
    "\n",
    "render_circuit_jupyter(circ)"
   ]
  },
  {
   "cell_type": "code",
   "execution_count": 57,
   "metadata": {},
   "outputs": [
    {
     "data": {
      "text/html": [
       "\n",
       "\n",
       "\n",
       "\n",
       "\n",
       "\n",
       "<div style=\"resize: vertical; overflow: auto; height: 400px; display: block\">\n",
       "    <iframe srcdoc=\"\n",
       "&lt;!DOCTYPE html&gt;\n",
       "&lt;html lang=&#34;en&#34;&gt;\n",
       "&lt;head&gt;\n",
       "    &lt;meta charset=&#34;UTF-8&#34;&gt;\n",
       "    &lt;!-- Download Vue 3--&gt;\n",
       "&lt;script type=&#34;application/javascript&#34; src=&#34;https://cdn.jsdelivr.net/npm/vue@3&#34;&gt;&lt;/script&gt;\n",
       "&lt;!-- Download Circuit Renderer with styles --&gt;\n",
       "&lt;script type=&#34;application/javascript&#34; src=&#34;https://unpkg.com/pytket-circuit-renderer@0.7/dist/pytket-circuit-renderer.umd.js&#34;&gt;&lt;/script&gt;\n",
       "&lt;link rel=&#34;stylesheet&#34; href=&#34;https://unpkg.com/pytket-circuit-renderer@0.7/dist/pytket-circuit-renderer.css&#34;&gt;\n",
       "&lt;/head&gt;\n",
       "&lt;body&gt;\n",
       "\n",
       "\n",
       "\n",
       "    &lt;div id=&#34;circuit-display-vue-container-5d0ea278-f750-487e-83ed-c10957404848&#34; class=&#34;pytket-circuit-display-container&#34;&gt;\n",
       "        &lt;div style=&#34;display: none&#34;&gt;\n",
       "            &lt;div id=&#34;circuit-json-to-display&#34;&gt;{&#34;bits&#34;: [[&#34;c&#34;, [0]], [&#34;c&#34;, [1]], [&#34;tk_DEBUG_ZERO_REG_projector&#34;, [0]]], &#34;commands&#34;: [{&#34;args&#34;: [[&#34;q&#34;, [0]]], &#34;op&#34;: {&#34;type&#34;: &#34;X&#34;}}, {&#34;args&#34;: [[&#34;q&#34;, [1]]], &#34;op&#34;: {&#34;type&#34;: &#34;H&#34;}}, {&#34;args&#34;: [[&#34;q&#34;, [0]]], &#34;op&#34;: {&#34;type&#34;: &#34;H&#34;}}, {&#34;args&#34;: [[&#34;q&#34;, [1]], [&#34;q&#34;, [2]]], &#34;op&#34;: {&#34;type&#34;: &#34;CX&#34;}}, {&#34;args&#34;: [[&#34;q&#34;, [0]], [&#34;q&#34;, [1]]], &#34;op&#34;: {&#34;type&#34;: &#34;CX&#34;}}, {&#34;args&#34;: [[&#34;q&#34;, [1]], [&#34;c&#34;, [1]]], &#34;op&#34;: {&#34;type&#34;: &#34;Measure&#34;}}, {&#34;args&#34;: [[&#34;q&#34;, [0]]], &#34;op&#34;: {&#34;type&#34;: &#34;H&#34;}}, {&#34;args&#34;: [[&#34;q&#34;, [0]], [&#34;c&#34;, [0]]], &#34;op&#34;: {&#34;type&#34;: &#34;Measure&#34;}}, {&#34;args&#34;: [[&#34;c&#34;, [1]], [&#34;q&#34;, [2]]], &#34;op&#34;: {&#34;conditional&#34;: {&#34;op&#34;: {&#34;type&#34;: &#34;X&#34;}, &#34;value&#34;: 1, &#34;width&#34;: 1}, &#34;type&#34;: &#34;Conditional&#34;}}, {&#34;args&#34;: [[&#34;c&#34;, [0]], [&#34;q&#34;, [2]]], &#34;op&#34;: {&#34;conditional&#34;: {&#34;op&#34;: {&#34;type&#34;: &#34;Z&#34;}, &#34;value&#34;: 1, &#34;width&#34;: 1}, &#34;type&#34;: &#34;Conditional&#34;}}, {&#34;args&#34;: [[&#34;q&#34;, [2]], [&#34;tk_DEBUG_ZERO_REG_projector&#34;, [0]]], &#34;op&#34;: {&#34;box&#34;: {&#34;id&#34;: &#34;23462f03-af52-49e4-a7c4-346ef68b586c&#34;, &#34;matrix&#34;: [[[0.5, 0.0], [-0.5, 0.0]], [[-0.5, 0.0], [0.5, 0.0]]], &#34;type&#34;: &#34;ProjectorAssertionBox&#34;}, &#34;type&#34;: &#34;ProjectorAssertionBox&#34;}}], &#34;created_qubits&#34;: [], &#34;discarded_qubits&#34;: [], &#34;implicit_permutation&#34;: [[[&#34;q&#34;, [0]], [&#34;q&#34;, [0]]], [[&#34;q&#34;, [1]], [&#34;q&#34;, [1]]], [[&#34;q&#34;, [2]], [&#34;q&#34;, [2]]]], &#34;name&#34;: &#34;conditional circuit&#34;, &#34;phase&#34;: &#34;0.0&#34;, &#34;qubits&#34;: [[&#34;q&#34;, [0]], [&#34;q&#34;, [1]], [&#34;q&#34;, [2]]]}&lt;/div&gt;\n",
       "        &lt;/div&gt;\n",
       "        &lt;circuit-display-container\n",
       "                :circuit-element-str=&#34;&#39;#circuit-json-to-display&#39;&#34;\n",
       "                :init-render-options=&#34;initRenderOptions&#34;\n",
       "        &gt;&lt;/circuit-display-container&gt;\n",
       "    &lt;/div&gt;\n",
       "    &lt;script type=&#34;application/javascript&#34;&gt;\n",
       "      const circuitRendererUid = &#34;5d0ea278-f750-487e-83ed-c10957404848&#34;;\n",
       "      const displayOptions = JSON.parse(&#39;{}&#39;);\n",
       "\n",
       "      // Script to initialise the circuit renderer app\r\n",
       "\r\n",
       "const { createApp } = Vue;\r\n",
       "const circuitDisplayContainer = window[&#34;pytket-circuit-renderer&#34;].default;\r\n",
       "// Init variables to be shared between circuit display instances\r\n",
       "if (typeof window.pytketCircuitDisplays === &#34;undefined&#34;) {\r\n",
       "    window.pytketCircuitDisplays = {};\r\n",
       "}\r\n",
       "// Create the root Vue component\r\n",
       "const app = createApp({\r\n",
       "    delimiters: [&#39;[[#&#39;, &#39;#]]&#39;],\r\n",
       "    components: { circuitDisplayContainer },\r\n",
       "    data () {\r\n",
       "      return {\r\n",
       "        initRenderOptions: displayOptions,\r\n",
       "      }\r\n",
       "    }\r\n",
       "})\r\n",
       "app.config.unwrapInjectedRef = true;\r\n",
       "app.mount(&#34;#circuit-display-vue-container-&#34;+circuitRendererUid);\r\n",
       "window.pytketCircuitDisplays[circuitRendererUid] = app;\n",
       "    &lt;/script&gt;\n",
       "\n",
       "\n",
       "\n",
       "&lt;/body&gt;\n",
       "&lt;/html&gt;\n",
       "\"\n",
       "            width=\"100%\" height=\"100%\"\n",
       "            style=\"border: none; outline: none; overflow: auto\"></iframe>\n",
       "</div>\n",
       "\n"
      ],
      "text/plain": [
       "<IPython.core.display.HTML object>"
      ]
     },
     "metadata": {},
     "output_type": "display_data"
    }
   ],
   "source": [
    "from pytket.circuit import ProjectorAssertionBox\n",
    "import numpy as np\n",
    "\n",
    "proj = np.array([[0.5,-0.5],[-0.5,0.5]])\n",
    "\n",
    "circ.add_assertion(ProjectorAssertionBox(proj), [qreg[2]], name=\"projector\")\n",
    "render_circuit_jupyter(circ)"
   ]
  },
  {
   "cell_type": "code",
   "execution_count": 58,
   "metadata": {},
   "outputs": [
    {
     "data": {
      "text/plain": [
       "6.2"
      ]
     },
     "execution_count": 58,
     "metadata": {},
     "output_type": "execute_result"
    }
   ],
   "source": [
    "machine = 'H1-1E'\n",
    "n_shots = 100\n",
    "backend = QuantinuumBackend(device_name=machine)\n",
    "compiled_circuit = backend.get_compiled_circuit(circ)\n",
    "backend.cost(compiled_circuit, n_shots=n_shots, syntax_checker='H1-1E')"
   ]
  },
  {
   "cell_type": "code",
   "execution_count": 59,
   "metadata": {},
   "outputs": [],
   "source": [
    "handle = backend.process_circuit(compiled_circuit, \n",
    "                                 n_shots=n_shots)"
   ]
  },
  {
   "cell_type": "code",
   "execution_count": 60,
   "metadata": {},
   "outputs": [
    {
     "data": {
      "text/plain": [
       "CircuitStatus(status=<StatusEnum.QUEUED: 'Circuit is queued.'>, message='{\"name\": \"conditional circuit\", \"submit-date\": \"2023-11-07T07:08:24.749897\", \"result-date\": null, \"queue-position\": null, \"cost\": \"6.2\", \"error\": null}', error_detail=None, completed_time=None, queued_time=None, submitted_time=None, running_time=None, cancelled_time=None, error_time=None, queue_position=None)"
      ]
     },
     "execution_count": 60,
     "metadata": {},
     "output_type": "execute_result"
    }
   ],
   "source": [
    "status = backend.circuit_status(handle)\n",
    "status"
   ]
  },
  {
   "cell_type": "code",
   "execution_count": 61,
   "metadata": {},
   "outputs": [],
   "source": [
    "result = backend.get_result(handle)"
   ]
  },
  {
   "cell_type": "code",
   "execution_count": 62,
   "metadata": {},
   "outputs": [
    {
     "data": {
      "text/plain": [
       "{'projector': 0.98}"
      ]
     },
     "execution_count": 62,
     "metadata": {},
     "output_type": "execute_result"
    }
   ],
   "source": [
    "result.get_debug_info()"
   ]
  },
  {
   "cell_type": "code",
   "execution_count": null,
   "metadata": {},
   "outputs": [],
   "source": []
  }
 ],
 "metadata": {
  "kernelspec": {
   "display_name": "Python 3",
   "language": "python",
   "name": "python3"
  },
  "language_info": {
   "codemirror_mode": {
    "name": "ipython",
    "version": 3
   },
   "file_extension": ".py",
   "mimetype": "text/x-python",
   "name": "python",
   "nbconvert_exporter": "python",
   "pygments_lexer": "ipython3",
   "version": "3.11.6"
  }
 },
 "nbformat": 4,
 "nbformat_minor": 2
}
