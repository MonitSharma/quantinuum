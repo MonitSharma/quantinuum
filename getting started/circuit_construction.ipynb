{
 "cells": [
  {
   "cell_type": "markdown",
   "metadata": {},
   "source": [
    "# Circuit Construction \n",
    "\n",
    "The `Circuit` class forms the unit of computation that we send off to a quantum co-processor. Let's make the circuit."
   ]
  },
  {
   "cell_type": "code",
   "execution_count": 1,
   "metadata": {},
   "outputs": [],
   "source": [
    "from pytket import Circuit\n",
    "\n",
    "trivial_circuit = Circuit()  # no qubits or bits\n",
    "quantum_circ = Circuit(4)    # 4 qubits, no bits\n",
    "mixed_circ = Circuit(2, 2)   # 2 qubits, 2 bits\n",
    "\n",
    "named_circ = Circuit(2,2,\"my_circuit\")  # named circuit"
   ]
  },
  {
   "cell_type": "markdown",
   "metadata": {},
   "source": [
    "## Basic Gates\n",
    "\n",
    "Basic quantum gates represent some unitary operation applied to some qubits. Adding them to a `Circuit` just requires specifying which qubits you  want to apply them to. For controlled-gates, the convention is to give the control qubits first, followed by the target qubits."
   ]
  },
  {
   "cell_type": "code",
   "execution_count": 2,
   "metadata": {},
   "outputs": [
    {
     "data": {
      "text/plain": [
       "[X q[0];, CX q[1], q[3];, Z q[3];]"
      ]
     },
     "execution_count": 2,
     "metadata": {},
     "output_type": "execute_result"
    }
   ],
   "source": [
    "from pytket import Circuit\n",
    "\n",
    "circ = Circuit(4)  # qubits are numbered 0-3\n",
    "circ.X(0)          # apply an X gate to qubit 0\n",
    "circ.CX(1,3)       # and apply a CX gate with control qubit 1 and target qubit 3\n",
    "circ.Z(3)          # apply a Z gate to qubit 3\n",
    "\n",
    "circ.get_commands()  # get the list of gates in the circuit"
   ]
  },
  {
   "cell_type": "markdown",
   "metadata": {},
   "source": [
    "For parameterised gates, such as rotations, the parameters is always given first. Because of the prevalence of rotations with anhles given by fractions of $\\pi$ in practical quantum computing, the unit for all angular parameters is the half-turn. $1$ half turn is equal to $\\pi$ radians)"
   ]
  },
  {
   "cell_type": "code",
   "execution_count": 3,
   "metadata": {},
   "outputs": [
    {
     "data": {
      "text/plain": [
       "[Rx(0.5) q[0]; CRz(0.3) q[1], q[0]; ]"
      ]
     },
     "execution_count": 3,
     "metadata": {},
     "output_type": "execute_result"
    }
   ],
   "source": [
    "from pytket import Circuit\n",
    "\n",
    "circ = Circuit(2)\n",
    "\n",
    "circ.Rx(0.5, 0)  # apply an Rx gate with angle 0.5, which is pi/2 to qubit 0\n",
    "circ.CRz(0.3,1,0) # controlled Rz of angle 0.3pi, control qubit 1, target qubit 0"
   ]
  },
  {
   "cell_type": "markdown",
   "metadata": {},
   "source": [
    "A large selection of common gates are available in this way. However, for less commonly used gates, a wider variety is available using the `OpType` enum, which can be added using the `Circuit.add_gate` method."
   ]
  },
  {
   "cell_type": "code",
   "execution_count": 4,
   "metadata": {},
   "outputs": [
    {
     "data": {
      "text/plain": [
       "[CnX q[0], q[1], q[4], q[3]; XXPhase(0.7) q[0], q[2]; PhasedX(3.9, 0.5) q[3]; ]"
      ]
     },
     "execution_count": 4,
     "metadata": {},
     "output_type": "execute_result"
    }
   ],
   "source": [
    "from pytket import Circuit, OpType\n",
    "\n",
    "circ = Circuit(5)\n",
    "\n",
    "circ.add_gate(OpType.CnX, [0,1,4,3])  # apply Controlled X gate with control qubit 0,1,4 and target qubit 3\n",
    "circ.add_gate(OpType.XXPhase,0.7,[0,2])  # add e^{-i 0.7 pi / 2) XX} on qubits 0 and 2\n",
    "circ.add_gate(OpType.PhasedX, [-0.1,0.5], [3])  # adds Rz(-0.5 pi) ; Rx(-0.1 pi) ; Rz(0.5 pi) on qubit 3"
   ]
  },
  {
   "cell_type": "markdown",
   "metadata": {},
   "source": [
    "In the above example, we asked for a `PhasedX` with angles `[-0.1, 0.5]`, but received `PhasedX(3.9, 0.5)`. `pytket` will freely map angles into the range $[0,r)$\n",
    "for some range parameter\n",
    "that depends on the `OpType`, preserving the unitary matrix (including global phase)."
   ]
  },
  {
   "cell_type": "markdown",
   "metadata": {},
   "source": [
    "## Measurements\n",
    "\n",
    "Measurements go a step further by interacting with both quantum and classical data. The convention used in `pytket` is that all measurements are non-destructive, single-qubit measurements in the $Z$ basis; other forms of measurements can be constructed by combining these with other operations.\n",
    "\n",
    "Adding a measurement works just like adding any other gate, where the first argument is the qubit to be measured and the second specifies the classical bit store the result in."
   ]
  },
  {
   "cell_type": "code",
   "execution_count": 5,
   "metadata": {},
   "outputs": [
    {
     "data": {
      "text/plain": [
       "[Measure q[0] --> c[0]; CX q[1], q[2]; CX q[1], q[3]; H q[1]; Measure q[1] --> c[1]; ]"
      ]
     },
     "execution_count": 5,
     "metadata": {},
     "output_type": "execute_result"
    }
   ],
   "source": [
    "from pytket import Circuit\n",
    "\n",
    "circ = Circuit(4,2)\n",
    "circ.Measure(0,0)  # measure qubit 0 into bit 0\n",
    "circ.CX(1,2)\n",
    "circ.CX(1,3)\n",
    "circ.H(1)\n",
    "circ.Measure(1,1)  # measurement of IXXX measure qubit 1 into bit 1"
   ]
  },
  {
   "cell_type": "markdown",
   "metadata": {},
   "source": [
    "because the classical bits are treated as statically assigned locations, writing to the same bit multiple times will overwrite the previous value."
   ]
  },
  {
   "cell_type": "code",
   "execution_count": 6,
   "metadata": {},
   "outputs": [
    {
     "data": {
      "text/plain": [
       "[Measure q[0] --> c[0]; CX q[0], q[1]; Measure q[1] --> c[0]; ]"
      ]
     },
     "execution_count": 6,
     "metadata": {},
     "output_type": "execute_result"
    }
   ],
   "source": [
    "from pytket import Circuit\n",
    "\n",
    "circ = Circuit(2,1)\n",
    "circ.Measure(0,0) # the firrst measurement\n",
    "circ.CX(0,1)\n",
    "circ.Measure(1,0) # overwrites the first result with new measurement"
   ]
  },
  {
   "cell_type": "markdown",
   "metadata": {},
   "source": [
    "Depending on where we plan on running our circuits, the backend or simulator might have different requirements on the structure of measurements in the circuits. For example, statevector simulators will only work deterministically for pure-quantum circuits, so will fail if any measures are present at all. More crucially, near-term quantum hardware almost always requires all measurements to occur in a single parallel layer at the end of the circuit (i.e. we cannot measure a qubit in the middle of the circuit)."
   ]
  },
  {
   "cell_type": "code",
   "execution_count": 7,
   "metadata": {},
   "outputs": [
    {
     "data": {
      "text/plain": [
       "[Measure q[0] --> c[0]; Measure q[1] --> c[0]; ]"
      ]
     },
     "execution_count": 7,
     "metadata": {},
     "output_type": "execute_result"
    }
   ],
   "source": [
    "from pytket import Circuit\n",
    "\n",
    "circ0 = Circuit(2,2) # all measurement at end\n",
    "circ0.H(1)\n",
    "circ0.Measure(0,0)\n",
    "circ0.Measure(1,1)\n",
    "\n",
    "\n",
    "circ1 = Circuit(2,2) # all measurement at end\n",
    "circ1.Measure(0,0)\n",
    "circ1.H(1)\n",
    "circ1.Measure(1,1)\n",
    "\n",
    "\n",
    "circ2 = Circuit(2,2) # all measurement at end\n",
    "circ2.Measure(0,0)\n",
    "circ2.CX(0,1)\n",
    "circ2.Measure(1,1)\n",
    "\n",
    "circ3 = Circuit(2,1) # all measurement at end\n",
    "circ3.Measure(0,0)\n",
    "circ3.Measure(1,0)\n"
   ]
  },
  {
   "cell_type": "markdown",
   "metadata": {},
   "source": [
    "The simplest way to guarantee this is to finish the circuit by measuring all qubits. There is a short-hand function `Circuit.measure_all()` to make this easier."
   ]
  },
  {
   "cell_type": "code",
   "execution_count": 8,
   "metadata": {},
   "outputs": [
    {
     "data": {
      "text/plain": [
       "[Measure q[0] --> c[0]; H q[1]; Measure q[1] --> c[1]; ]"
      ]
     },
     "execution_count": 8,
     "metadata": {},
     "output_type": "execute_result"
    }
   ],
   "source": [
    "from pytket import Circuit\n",
    "\n",
    "# measure qubit 0 in Z basis and 1 in X basis\n",
    "circ = Circuit(2, 2)\n",
    "circ.H(1)\n",
    "circ.measure_all()\n",
    "\n",
    "# measure_all() adds bits if they are not already defined, so equivalently\n",
    "circ = Circuit(2)\n",
    "circ.H(1)\n",
    "circ.measure_all()"
   ]
  },
  {
   "cell_type": "markdown",
   "metadata": {},
   "source": [
    "On devices where mid-circuit measurements are available, they may be highly noisy and not apply just a basic projector on the quantum state. We can view these as “effectively destructive” measurements, where the qubit still exists but is in a noisy state. In this case, it is recommended to actively reset a qubit after measurement if it is intended to be reused."
   ]
  },
  {
   "cell_type": "code",
   "execution_count": 9,
   "metadata": {},
   "outputs": [
    {
     "data": {
      "text/plain": [
       "[Measure q[0] --> c[0]; Reset q[0]; IF ([c[0]] == 1) THEN X q[0]; CX q[0], q[1]; ]"
      ]
     },
     "execution_count": 9,
     "metadata": {},
     "output_type": "execute_result"
    }
   ],
   "source": [
    "from pytket import Circuit, OpType\n",
    "\n",
    "circ = Circuit(2, 2)\n",
    "circ.Measure(0, 0)\n",
    "# Actively reset state to |0>\n",
    "circ.add_gate(OpType.Reset, [0])\n",
    "# Conditionally flip state to |1> to reflect measurement result\n",
    "circ.X(0, condition_bits=[0], condition_value=1)\n",
    "# Use the qubit as if the measurement was non-destructive\n",
    "circ.CX(0, 1)"
   ]
  },
  {
   "cell_type": "markdown",
   "metadata": {},
   "source": [
    "## Barriers\n",
    "The concept of barriers comes from low-level classical programming. They exist as instructions but perform no active operation. Instead, their function is twofold:\n",
    "\n",
    "1. At compile time , prevent the compiler from reordering operations around the barrier\n",
    "2. At runtime. ensure that all operations before the barrier must have finished before any operations after the barrier starts.\n",
    "\n"
   ]
  },
  {
   "cell_type": "code",
   "execution_count": 10,
   "metadata": {},
   "outputs": [
    {
     "data": {
      "text/plain": [
       "[H q[0]; CX q[1], q[2]; Barrier q[0], q[1], q[2], q[3], c[0], c[1]; Measure q[0] --> c[0]; Measure q[2] --> c[1]; ]"
      ]
     },
     "execution_count": 10,
     "metadata": {},
     "output_type": "execute_result"
    }
   ],
   "source": [
    "from pytket import Circuit, OpType\n",
    "\n",
    "circ = Circuit(4,2)\n",
    "circ.H(0)\n",
    "circ.CX(1,2)\n",
    "circ.add_barrier([0,1,2,3],[0,1])  # add barrier on all qubits and bits\n",
    "\n",
    "circ.Measure(0,0)\n",
    "circ.Measure(2,1)"
   ]
  },
  {
   "cell_type": "markdown",
   "metadata": {},
   "source": [
    "## Registers and IDs\n",
    "\n",
    "Using Integer Values to refer to each odf the qubits and bits work fine for small-scale experiments, but when dealing with larger and more complicated circuits, its much easier to manage if we are able to name our resources to attach semantic meaning to them and group them into related collection.\n",
    "\n",
    "Each unit resource is associated with a `UnitID` which gives a name and some index. A quantum/classical register is hence some collection of `UnitID`s with the same name, dimension of index, and type of associated resource. "
   ]
  },
  {
   "cell_type": "code",
   "execution_count": 11,
   "metadata": {},
   "outputs": [
    {
     "data": {
      "text/plain": [
       "[CX qreg[0], ancilla; CX qreg[1], ancilla; Measure ancilla --> parity[0, 0]; ]"
      ]
     },
     "execution_count": 11,
     "metadata": {},
     "output_type": "execute_result"
    }
   ],
   "source": [
    "from pytket import Circuit, OpType, Qubit, Bit\n",
    "circ = Circuit()\n",
    "\n",
    "qreg = circ.add_q_register(\"qreg\", 3)  # add a qubit register\n",
    "anc = Qubit(\"ancilla\")  # create a named qubit  \n",
    "\n",
    "circ.add_qubit(anc)\n",
    "\n",
    "par = Bit(\"parity\",[0,0])  # add a named bit with 2D index\n",
    "circ.add_bit(par)\n",
    "\n",
    "circ.CX(qreg[0],anc)\n",
    "circ.CX(qreg[1],anc)\n",
    "circ.Measure(anc,par)"
   ]
  },
  {
   "cell_type": "markdown",
   "metadata": {},
   "source": [
    "A Circuit can be inspected to identify what qubits and bits it contains."
   ]
  },
  {
   "cell_type": "code",
   "execution_count": 12,
   "metadata": {},
   "outputs": [
    {
     "name": "stdout",
     "output_type": "stream",
     "text": [
      "[a[0], a[1], a[2], a[3], b]\n",
      "[z[0], z[1], z[2]]\n"
     ]
    }
   ],
   "source": [
    "from pytket import Circuit, Qubit\n",
    "\n",
    "circ = Circuit()\n",
    "circ.add_q_register(\"a\", 4)\n",
    "circ.add_qubit(Qubit(\"b\"))\n",
    "circ.add_c_register(\"z\", 3)\n",
    "\n",
    "print(circ.qubits)\n",
    "print(circ.bits)"
   ]
  },
  {
   "cell_type": "code",
   "execution_count": null,
   "metadata": {},
   "outputs": [],
   "source": []
  }
 ],
 "metadata": {
  "kernelspec": {
   "display_name": "Python 3",
   "language": "python",
   "name": "python3"
  },
  "language_info": {
   "codemirror_mode": {
    "name": "ipython",
    "version": 3
   },
   "file_extension": ".py",
   "mimetype": "text/x-python",
   "name": "python",
   "nbconvert_exporter": "python",
   "pygments_lexer": "ipython3",
   "version": "3.11.6"
  }
 },
 "nbformat": 4,
 "nbformat_minor": 2
}
