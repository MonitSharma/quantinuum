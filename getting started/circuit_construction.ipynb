{
 "cells": [
  {
   "cell_type": "markdown",
   "metadata": {},
   "source": [
    "# Circuit Construction \n",
    "\n",
    "The `Circuit` class forms the unit of computation that we send off to a quantum co-processor. Let's make the circuit."
   ]
  },
  {
   "cell_type": "code",
   "execution_count": 1,
   "metadata": {},
   "outputs": [],
   "source": [
    "from pytket import Circuit\n",
    "\n",
    "trivial_circuit = Circuit()  # no qubits or bits\n",
    "quantum_circ = Circuit(4)    # 4 qubits, no bits\n",
    "mixed_circ = Circuit(2, 2)   # 2 qubits, 2 bits\n",
    "\n",
    "named_circ = Circuit(2,2,\"my_circuit\")  # named circuit"
   ]
  },
  {
   "cell_type": "markdown",
   "metadata": {},
   "source": [
    "## Basic Gates\n",
    "\n",
    "Basic quantum gates represent some unitary operation applied to some qubits. Adding them to a `Circuit` just requires specifying which qubits you  want to apply them to. For controlled-gates, the convention is to give the control qubits first, followed by the target qubits."
   ]
  },
  {
   "cell_type": "code",
   "execution_count": 2,
   "metadata": {},
   "outputs": [
    {
     "data": {
      "text/plain": [
       "[X q[0];, CX q[1], q[3];, Z q[3];]"
      ]
     },
     "execution_count": 2,
     "metadata": {},
     "output_type": "execute_result"
    }
   ],
   "source": [
    "from pytket import Circuit\n",
    "\n",
    "circ = Circuit(4)  # qubits are numbered 0-3\n",
    "circ.X(0)          # apply an X gate to qubit 0\n",
    "circ.CX(1,3)       # and apply a CX gate with control qubit 1 and target qubit 3\n",
    "circ.Z(3)          # apply a Z gate to qubit 3\n",
    "\n",
    "circ.get_commands()  # get the list of gates in the circuit"
   ]
  },
  {
   "cell_type": "markdown",
   "metadata": {},
   "source": [
    "For parameterised gates, such as rotations, the parameters is always given first. Because of the prevalence of rotations with anhles given by fractions of $\\pi$ in practical quantum computing, the unit for all angular parameters is the half-turn. $1$ half turn is equal to $\\pi$ radians)"
   ]
  },
  {
   "cell_type": "code",
   "execution_count": 3,
   "metadata": {},
   "outputs": [
    {
     "data": {
      "text/plain": [
       "[Rx(0.5) q[0]; CRz(0.3) q[1], q[0]; ]"
      ]
     },
     "execution_count": 3,
     "metadata": {},
     "output_type": "execute_result"
    }
   ],
   "source": [
    "from pytket import Circuit\n",
    "\n",
    "circ = Circuit(2)\n",
    "\n",
    "circ.Rx(0.5, 0)  # apply an Rx gate with angle 0.5, which is pi/2 to qubit 0\n",
    "circ.CRz(0.3,1,0) # controlled Rz of angle 0.3pi, control qubit 1, target qubit 0"
   ]
  },
  {
   "cell_type": "markdown",
   "metadata": {},
   "source": [
    "A large selection of common gates are available in this way. However, for less commonly used gates, a wider variety is available using the `OpType` enum, which can be added using the `Circuit.add_gate` method."
   ]
  },
  {
   "cell_type": "code",
   "execution_count": 4,
   "metadata": {},
   "outputs": [
    {
     "data": {
      "text/plain": [
       "[CnX q[0], q[1], q[4], q[3]; XXPhase(0.7) q[0], q[2]; PhasedX(3.9, 0.5) q[3]; ]"
      ]
     },
     "execution_count": 4,
     "metadata": {},
     "output_type": "execute_result"
    }
   ],
   "source": [
    "from pytket import Circuit, OpType\n",
    "\n",
    "circ = Circuit(5)\n",
    "\n",
    "circ.add_gate(OpType.CnX, [0,1,4,3])  # apply Controlled X gate with control qubit 0,1,4 and target qubit 3\n",
    "circ.add_gate(OpType.XXPhase,0.7,[0,2])  # add e^{-i 0.7 pi / 2) XX} on qubits 0 and 2\n",
    "circ.add_gate(OpType.PhasedX, [-0.1,0.5], [3])  # adds Rz(-0.5 pi) ; Rx(-0.1 pi) ; Rz(0.5 pi) on qubit 3"
   ]
  },
  {
   "cell_type": "markdown",
   "metadata": {},
   "source": [
    "In the above example, we asked for a `PhasedX` with angles `[-0.1, 0.5]`, but received `PhasedX(3.9, 0.5)`. `pytket` will freely map angles into the range $[0,r)$\n",
    "for some range parameter\n",
    "that depends on the `OpType`, preserving the unitary matrix (including global phase)."
   ]
  },
  {
   "cell_type": "markdown",
   "metadata": {},
   "source": [
    "## Measurements\n",
    "\n",
    "Measurements go a step further by interacting with both quantum and classical data. The convention used in `pytket` is that all measurements are non-destructive, single-qubit measurements in the $Z$ basis; other forms of measurements can be constructed by combining these with other operations.\n",
    "\n",
    "Adding a measurement works just like adding any other gate, where the first argument is the qubit to be measured and the second specifies the classical bit store the result in."
   ]
  },
  {
   "cell_type": "code",
   "execution_count": 5,
   "metadata": {},
   "outputs": [
    {
     "data": {
      "text/plain": [
       "[Measure q[0] --> c[0]; CX q[1], q[2]; CX q[1], q[3]; H q[1]; Measure q[1] --> c[1]; ]"
      ]
     },
     "execution_count": 5,
     "metadata": {},
     "output_type": "execute_result"
    }
   ],
   "source": [
    "from pytket import Circuit\n",
    "\n",
    "circ = Circuit(4,2)\n",
    "circ.Measure(0,0)  # measure qubit 0 into bit 0\n",
    "circ.CX(1,2)\n",
    "circ.CX(1,3)\n",
    "circ.H(1)\n",
    "circ.Measure(1,1)  # measurement of IXXX measure qubit 1 into bit 1"
   ]
  },
  {
   "cell_type": "markdown",
   "metadata": {},
   "source": [
    "because the classical bits are treated as statically assigned locations, writing to the same bit multiple times will overwrite the previous value."
   ]
  },
  {
   "cell_type": "code",
   "execution_count": 6,
   "metadata": {},
   "outputs": [
    {
     "data": {
      "text/plain": [
       "[Measure q[0] --> c[0]; CX q[0], q[1]; Measure q[1] --> c[0]; ]"
      ]
     },
     "execution_count": 6,
     "metadata": {},
     "output_type": "execute_result"
    }
   ],
   "source": [
    "from pytket import Circuit\n",
    "\n",
    "circ = Circuit(2,1)\n",
    "circ.Measure(0,0) # the firrst measurement\n",
    "circ.CX(0,1)\n",
    "circ.Measure(1,0) # overwrites the first result with new measurement"
   ]
  },
  {
   "cell_type": "markdown",
   "metadata": {},
   "source": [
    "Depending on where we plan on running our circuits, the backend or simulator might have different requirements on the structure of measurements in the circuits. For example, statevector simulators will only work deterministically for pure-quantum circuits, so will fail if any measures are present at all. More crucially, near-term quantum hardware almost always requires all measurements to occur in a single parallel layer at the end of the circuit (i.e. we cannot measure a qubit in the middle of the circuit)."
   ]
  },
  {
   "cell_type": "code",
   "execution_count": 7,
   "metadata": {},
   "outputs": [
    {
     "data": {
      "text/plain": [
       "[Measure q[0] --> c[0]; Measure q[1] --> c[0]; ]"
      ]
     },
     "execution_count": 7,
     "metadata": {},
     "output_type": "execute_result"
    }
   ],
   "source": [
    "from pytket import Circuit\n",
    "\n",
    "circ0 = Circuit(2,2) # all measurement at end\n",
    "circ0.H(1)\n",
    "circ0.Measure(0,0)\n",
    "circ0.Measure(1,1)\n",
    "\n",
    "\n",
    "circ1 = Circuit(2,2) # all measurement at end\n",
    "circ1.Measure(0,0)\n",
    "circ1.H(1)\n",
    "circ1.Measure(1,1)\n",
    "\n",
    "\n",
    "circ2 = Circuit(2,2) # all measurement at end\n",
    "circ2.Measure(0,0)\n",
    "circ2.CX(0,1)\n",
    "circ2.Measure(1,1)\n",
    "\n",
    "circ3 = Circuit(2,1) # all measurement at end\n",
    "circ3.Measure(0,0)\n",
    "circ3.Measure(1,0)\n"
   ]
  },
  {
   "cell_type": "markdown",
   "metadata": {},
   "source": [
    "The simplest way to guarantee this is to finish the circuit by measuring all qubits. There is a short-hand function `Circuit.measure_all()` to make this easier."
   ]
  },
  {
   "cell_type": "code",
   "execution_count": 8,
   "metadata": {},
   "outputs": [
    {
     "data": {
      "text/plain": [
       "[Measure q[0] --> c[0]; H q[1]; Measure q[1] --> c[1]; ]"
      ]
     },
     "execution_count": 8,
     "metadata": {},
     "output_type": "execute_result"
    }
   ],
   "source": [
    "from pytket import Circuit\n",
    "\n",
    "# measure qubit 0 in Z basis and 1 in X basis\n",
    "circ = Circuit(2, 2)\n",
    "circ.H(1)\n",
    "circ.measure_all()\n",
    "\n",
    "# measure_all() adds bits if they are not already defined, so equivalently\n",
    "circ = Circuit(2)\n",
    "circ.H(1)\n",
    "circ.measure_all()"
   ]
  },
  {
   "cell_type": "markdown",
   "metadata": {},
   "source": [
    "On devices where mid-circuit measurements are available, they may be highly noisy and not apply just a basic projector on the quantum state. We can view these as “effectively destructive” measurements, where the qubit still exists but is in a noisy state. In this case, it is recommended to actively reset a qubit after measurement if it is intended to be reused."
   ]
  },
  {
   "cell_type": "code",
   "execution_count": 9,
   "metadata": {},
   "outputs": [
    {
     "data": {
      "text/plain": [
       "[Measure q[0] --> c[0]; Reset q[0]; IF ([c[0]] == 1) THEN X q[0]; CX q[0], q[1]; ]"
      ]
     },
     "execution_count": 9,
     "metadata": {},
     "output_type": "execute_result"
    }
   ],
   "source": [
    "from pytket import Circuit, OpType\n",
    "\n",
    "circ = Circuit(2, 2)\n",
    "circ.Measure(0, 0)\n",
    "# Actively reset state to |0>\n",
    "circ.add_gate(OpType.Reset, [0])\n",
    "# Conditionally flip state to |1> to reflect measurement result\n",
    "circ.X(0, condition_bits=[0], condition_value=1)\n",
    "# Use the qubit as if the measurement was non-destructive\n",
    "circ.CX(0, 1)"
   ]
  },
  {
   "cell_type": "markdown",
   "metadata": {},
   "source": [
    "## Barriers\n",
    "The concept of barriers comes from low-level classical programming. They exist as instructions but perform no active operation. Instead, their function is twofold:\n",
    "\n",
    "1. At compile time , prevent the compiler from reordering operations around the barrier\n",
    "2. At runtime. ensure that all operations before the barrier must have finished before any operations after the barrier starts.\n",
    "\n"
   ]
  },
  {
   "cell_type": "code",
   "execution_count": 10,
   "metadata": {},
   "outputs": [
    {
     "data": {
      "text/plain": [
       "[H q[0]; CX q[1], q[2]; Barrier q[0], q[1], q[2], q[3], c[0], c[1]; Measure q[0] --> c[0]; Measure q[2] --> c[1]; ]"
      ]
     },
     "execution_count": 10,
     "metadata": {},
     "output_type": "execute_result"
    }
   ],
   "source": [
    "from pytket import Circuit, OpType\n",
    "\n",
    "circ = Circuit(4,2)\n",
    "circ.H(0)\n",
    "circ.CX(1,2)\n",
    "circ.add_barrier([0,1,2,3],[0,1])  # add barrier on all qubits and bits\n",
    "\n",
    "circ.Measure(0,0)\n",
    "circ.Measure(2,1)"
   ]
  },
  {
   "cell_type": "markdown",
   "metadata": {},
   "source": [
    "## Registers and IDs\n",
    "\n",
    "Using Integer Values to refer to each odf the qubits and bits work fine for small-scale experiments, but when dealing with larger and more complicated circuits, its much easier to manage if we are able to name our resources to attach semantic meaning to them and group them into related collection.\n",
    "\n",
    "Each unit resource is associated with a `UnitID` which gives a name and some index. A quantum/classical register is hence some collection of `UnitID`s with the same name, dimension of index, and type of associated resource. "
   ]
  },
  {
   "cell_type": "code",
   "execution_count": 11,
   "metadata": {},
   "outputs": [
    {
     "data": {
      "text/plain": [
       "[CX qreg[0], ancilla; CX qreg[1], ancilla; Measure ancilla --> parity[0, 0]; ]"
      ]
     },
     "execution_count": 11,
     "metadata": {},
     "output_type": "execute_result"
    }
   ],
   "source": [
    "from pytket import Circuit, OpType, Qubit, Bit\n",
    "circ = Circuit()\n",
    "\n",
    "qreg = circ.add_q_register(\"qreg\", 3)  # add a qubit register\n",
    "anc = Qubit(\"ancilla\")  # create a named qubit  \n",
    "\n",
    "circ.add_qubit(anc)\n",
    "\n",
    "par = Bit(\"parity\",[0,0])  # add a named bit with 2D index\n",
    "circ.add_bit(par)\n",
    "\n",
    "circ.CX(qreg[0],anc)\n",
    "circ.CX(qreg[1],anc)\n",
    "circ.Measure(anc,par)"
   ]
  },
  {
   "cell_type": "markdown",
   "metadata": {},
   "source": [
    "A Circuit can be inspected to identify what qubits and bits it contains."
   ]
  },
  {
   "cell_type": "code",
   "execution_count": 12,
   "metadata": {},
   "outputs": [
    {
     "name": "stdout",
     "output_type": "stream",
     "text": [
      "[a[0], a[1], a[2], a[3], b]\n",
      "[z[0], z[1], z[2]]\n"
     ]
    }
   ],
   "source": [
    "from pytket import Circuit, Qubit\n",
    "\n",
    "circ = Circuit()\n",
    "circ.add_q_register(\"a\", 4)\n",
    "circ.add_qubit(Qubit(\"b\"))\n",
    "circ.add_c_register(\"z\", 3)\n",
    "\n",
    "print(circ.qubits)\n",
    "print(circ.bits)"
   ]
  },
  {
   "cell_type": "markdown",
   "metadata": {},
   "source": [
    "The circuit will reject new  qubit ot register if it disagrees with existing IDs"
   ]
  },
  {
   "cell_type": "code",
   "execution_count": 13,
   "metadata": {},
   "outputs": [
    {
     "ename": "RuntimeError",
     "evalue": "Cannot add bit with ID \"a[1]\" as register is not compatible",
     "output_type": "error",
     "traceback": [
      "\u001b[1;31m---------------------------------------------------------------------------\u001b[0m",
      "\u001b[1;31mRuntimeError\u001b[0m                              Traceback (most recent call last)",
      "\u001b[1;32mc:\\Users\\monitsharma\\Downloads\\quantinuum\\getting started\\circuit_construction.ipynb Cell 27\u001b[0m line \u001b[0;36m8\n\u001b[0;32m      <a href='vscode-notebook-cell:/c%3A/Users/monitsharma/Downloads/quantinuum/getting%20started/circuit_construction.ipynb#X41sZmlsZQ%3D%3D?line=4'>5</a>\u001b[0m circ\u001b[39m.\u001b[39madd_qubit(Qubit(\u001b[39m\"\u001b[39m\u001b[39ma\u001b[39m\u001b[39m\"\u001b[39m, \u001b[39m0\u001b[39m))\n\u001b[0;32m      <a href='vscode-notebook-cell:/c%3A/Users/monitsharma/Downloads/quantinuum/getting%20started/circuit_construction.ipynb#X41sZmlsZQ%3D%3D?line=6'>7</a>\u001b[0m \u001b[39m# rejected because \"a\" is already a qubit register\u001b[39;00m\n\u001b[1;32m----> <a href='vscode-notebook-cell:/c%3A/Users/monitsharma/Downloads/quantinuum/getting%20started/circuit_construction.ipynb#X41sZmlsZQ%3D%3D?line=7'>8</a>\u001b[0m circ\u001b[39m.\u001b[39;49madd_bit(Bit(\u001b[39m\"\u001b[39;49m\u001b[39ma\u001b[39;49m\u001b[39m\"\u001b[39;49m, \u001b[39m1\u001b[39;49m))\n",
      "\u001b[1;31mRuntimeError\u001b[0m: Cannot add bit with ID \"a[1]\" as register is not compatible"
     ]
    }
   ],
   "source": [
    "from pytket import Circuit, Qubit, Bit\n",
    "\n",
    "circ = Circuit()\n",
    "# set up a circuit with qubit a[0]\n",
    "circ.add_qubit(Qubit(\"a\", 0))\n",
    "\n",
    "# rejected because \"a\" is already a qubit register\n",
    "circ.add_bit(Bit(\"a\", 1))"
   ]
  },
  {
   "cell_type": "markdown",
   "metadata": {},
   "source": [
    "The basic integer identifiers are actually a special case, referring to the default qubit (q[i]) and bit (c[i]) registers. We can create the UnitID using the nameless Qubit and Bit constructors."
   ]
  },
  {
   "cell_type": "code",
   "execution_count": 14,
   "metadata": {},
   "outputs": [
    {
     "data": {
      "text/plain": [
       "[Measure q[2] --> c[0]; CX q[0], q[1]; ]"
      ]
     },
     "execution_count": 14,
     "metadata": {},
     "output_type": "execute_result"
    }
   ],
   "source": [
    "from pytket import Circuit, Qubit, Bit\n",
    "\n",
    "circ = Circuit(4, 2)\n",
    "circ.CX(Qubit(0), Qubit(\"q\", 1))    # same as circ.CX(0, 1)\n",
    "circ.Measure(Qubit(2), Bit(\"c\", 0)) # same as circ.Measure(2, 0)"
   ]
  },
  {
   "cell_type": "markdown",
   "metadata": {},
   "source": [
    "In some circumstances, it may be useful to rename the resources in the Circuit. Given a partial map on UnitID s, Circuit.rename_units() will change the association of IDs to resources (as long as the final labelling would still have consistent types for all registers). Any unspecified IDs will be preserve"
   ]
  },
  {
   "cell_type": "code",
   "execution_count": 15,
   "metadata": {},
   "outputs": [
    {
     "name": "stdout",
     "output_type": "stream",
     "text": [
      "[a[0], q[0], q[3]]\n",
      "[c[1], z[0, 1]]\n"
     ]
    }
   ],
   "source": [
    "from pytket import Circuit, Qubit, Bit\n",
    "\n",
    "circ = Circuit(2, 2)\n",
    "circ.add_qubit(Qubit(\"a\", 0))\n",
    "\n",
    "qubit_map = {\n",
    "    Qubit(\"a\", 0) : Qubit(3),\n",
    "    Qubit(1) : Qubit(\"a\", 0),\n",
    "    Bit(0) : Bit(\"z\", [0, 1]),\n",
    "}\n",
    "circ.rename_units(qubit_map)\n",
    "print(circ.qubits)\n",
    "print(circ.bits)"
   ]
  },
  {
   "cell_type": "markdown",
   "metadata": {},
   "source": [
    "## Composing Circuits\n",
    "\n",
    "Since `Circuit`s are defined to have open inputs and outputs, it is perfectly natural to compose them by unifying the outputs of one with the input of another. Appending one `Circuit` to the end of another matches the inputs and outputs with the same `UnitID`"
   ]
  },
  {
   "cell_type": "code",
   "execution_count": 16,
   "metadata": {},
   "outputs": [
    {
     "data": {
      "text/plain": [
       "[CX q[0], q[1]; Rz(0.3) q[1]; CX q[0], q[1]; Measure q[0] --> c[0]; H q[1]; Measure q[1] --> c[1]; ]"
      ]
     },
     "execution_count": 16,
     "metadata": {},
     "output_type": "execute_result"
    }
   ],
   "source": [
    "from pytket import Circuit, Qubit, Bit\n",
    "\n",
    "circ = Circuit(2, 2)\n",
    "circ.CX(0, 1)\n",
    "circ.Rz(0.3,1)\n",
    "circ.CX(0,1)\n",
    "\n",
    "measures = Circuit(2,2)\n",
    "measures.H(1)\n",
    "measures.measure_all()\n",
    "\n",
    "circ.append(measures)\n",
    "circ"
   ]
  },
  {
   "cell_type": "markdown",
   "metadata": {},
   "source": [
    "If one Circuit lacks some unit present in the other, then we treat it as if it is an identity on that unit. In the extreme case where the Circuit s are defined with disjoint sets of UnitID s, the Circuit.append() method will compose them in parallel."
   ]
  },
  {
   "cell_type": "code",
   "execution_count": 17,
   "metadata": {},
   "outputs": [
    {
     "data": {
      "text/plain": [
       "[Rx(0.2) a[0]; Z b[0]; CX a[0], a[1]; CZ b[1], b[0]; ]"
      ]
     },
     "execution_count": 17,
     "metadata": {},
     "output_type": "execute_result"
    }
   ],
   "source": [
    "from pytket import Circuit\n",
    "\n",
    "circ = Circuit()\n",
    "a = circ.add_q_register(\"a\", 2)\n",
    "circ.Rx(0.2, a[0])\n",
    "circ.CX(a[0], a[1])\n",
    "\n",
    "next_circ = Circuit()\n",
    "b = next_circ.add_q_register(\"b\", 2)\n",
    "next_circ.Z(b[0])\n",
    "next_circ.CZ(b[1], b[0])\n",
    "\n",
    "circ.append(next_circ)\n",
    "circ"
   ]
  },
  {
   "cell_type": "markdown",
   "metadata": {},
   "source": [
    "To change which units get unified, we could use Circuit.rename_units() as seen before, but in the case where we just want to append a subcircuit like a gate, we can do this with Circuit.add_circuit()."
   ]
  },
  {
   "cell_type": "code",
   "execution_count": 18,
   "metadata": {},
   "outputs": [
    {
     "data": {
      "text/plain": [
       "[Rx(0.2) a[0]; CX a[0], a[1]; Z a[1]; CZ a[0], a[1]; ]"
      ]
     },
     "execution_count": 18,
     "metadata": {},
     "output_type": "execute_result"
    }
   ],
   "source": [
    "from pytket import Circuit, Qubit\n",
    "\n",
    "circ = Circuit()\n",
    "a = circ.add_q_register(\"a\", 2)\n",
    "circ.Rx(0.2, a[0])\n",
    "circ.CX(a[0], a[1])\n",
    "\n",
    "next_circ = Circuit(2)\n",
    "next_circ.Z(0)\n",
    "next_circ.CZ(1, 0)\n",
    "\n",
    "circ.add_circuit(next_circ, [a[1], a[0]])\n",
    "\n",
    "# This is equivalent to:\n",
    "# temp = next_circ.copy()\n",
    "# temp.rename_units({Qubit(0) : a[1], Qubit(1) : a[0]})\n",
    "# circ.append(temp)\n",
    "\n",
    "circ"
   ]
  },
  {
   "cell_type": "markdown",
   "metadata": {},
   "source": [
    "## Statevectors and Unitaries\n",
    "\n",
    "When working with quantum circuits we may want access to the quantum state prepared by our circuit. This can be helpful if we want to check whether our circuit construction is correct. The Circuit.get_statevector() method will produce the statevector of our system after the circuit is applied."
   ]
  },
  {
   "cell_type": "code",
   "execution_count": 19,
   "metadata": {},
   "outputs": [
    {
     "data": {
      "text/plain": [
       "array([[ 0.5+0.j,  0.5+0.j,  0.5+0.j,  0.5+0.j],\n",
       "       [ 0.5+0.j, -0.5+0.j,  0.5+0.j, -0.5+0.j],\n",
       "       [ 0.5+0.j, -0.5+0.j, -0.5+0.j,  0.5+0.j],\n",
       "       [ 0.5+0.j,  0.5+0.j, -0.5+0.j, -0.5+0.j]])"
      ]
     },
     "execution_count": 19,
     "metadata": {},
     "output_type": "execute_result"
    }
   ],
   "source": [
    "from pytket import Circuit\n",
    "\n",
    "circ = Circuit(2)\n",
    "circ.H(0).CZ(0, 1).H(1)\n",
    "circ.get_unitary()"
   ]
  },
  {
   "cell_type": "markdown",
   "metadata": {},
   "source": [
    "## Analysing Circuits\n",
    "\n",
    "After creating a `Circuit`, we will typically want to inspect what we have constructed to ensure that it agrees with the design we planned. the most basic form is to return the sequence of operations. Iterating through the `Circuit` object will give it back the operations as `Command`s \n",
    "\n",
    "\n",
    "because the `Circuit` class identifies circuits up to DAG equivalence, the sequence will be some topological sort of the DAG, but not necessarily identical to the order of the operations were added to the `Circuit`"
   ]
  },
  {
   "cell_type": "code",
   "execution_count": 20,
   "metadata": {},
   "outputs": [
    {
     "name": "stdout",
     "output_type": "stream",
     "text": [
      "CX OpType.CX [q[0], q[1]]\n",
      "Rx(0.3) OpType.Rx [q[0]]\n",
      "CZ OpType.CZ [q[1], q[2]]\n",
      "X OpType.X [q[1]]\n"
     ]
    }
   ],
   "source": [
    "from pytket import Circuit\n",
    "\n",
    "circ = Circuit(3)\n",
    "circ.CX(0,1).CZ(1,2).X(1).Rx(0.3,0)\n",
    "\n",
    "for _ in circ :  # equivalently, circ.get_commands()\n",
    "    print(_.op, _.op.type, _.args)"
   ]
  },
  {
   "cell_type": "markdown",
   "metadata": {},
   "source": [
    "### Drawing a Circuit"
   ]
  },
  {
   "cell_type": "code",
   "execution_count": 21,
   "metadata": {},
   "outputs": [
    {
     "data": {
      "text/html": [
       "\n",
       "\n",
       "\n",
       "\n",
       "\n",
       "\n",
       "<div style=\"resize: vertical; overflow: auto; height: 400px; display: block\">\n",
       "    <iframe srcdoc=\"\n",
       "&lt;!DOCTYPE html&gt;\n",
       "&lt;html lang=&#34;en&#34;&gt;\n",
       "&lt;head&gt;\n",
       "    &lt;meta charset=&#34;UTF-8&#34;&gt;\n",
       "    &lt;!-- Download Vue 3--&gt;\n",
       "&lt;script type=&#34;application/javascript&#34; src=&#34;https://cdn.jsdelivr.net/npm/vue@3&#34;&gt;&lt;/script&gt;\n",
       "&lt;!-- Download Circuit Renderer with styles --&gt;\n",
       "&lt;script type=&#34;application/javascript&#34; src=&#34;https://unpkg.com/pytket-circuit-renderer@0.7/dist/pytket-circuit-renderer.umd.js&#34;&gt;&lt;/script&gt;\n",
       "&lt;link rel=&#34;stylesheet&#34; href=&#34;https://unpkg.com/pytket-circuit-renderer@0.7/dist/pytket-circuit-renderer.css&#34;&gt;\n",
       "&lt;/head&gt;\n",
       "&lt;body&gt;\n",
       "\n",
       "\n",
       "\n",
       "    &lt;div id=&#34;circuit-display-vue-container-9d9843cb-f321-4271-9c77-2825fb371adf&#34; class=&#34;pytket-circuit-display-container&#34;&gt;\n",
       "        &lt;div style=&#34;display: none&#34;&gt;\n",
       "            &lt;div id=&#34;circuit-json-to-display&#34;&gt;{&#34;bits&#34;: [], &#34;commands&#34;: [{&#34;args&#34;: [[&#34;q&#34;, [0]], [&#34;q&#34;, [1]]], &#34;op&#34;: {&#34;type&#34;: &#34;CX&#34;}}, {&#34;args&#34;: [[&#34;q&#34;, [0]]], &#34;op&#34;: {&#34;params&#34;: [&#34;0.3&#34;], &#34;type&#34;: &#34;Rx&#34;}}, {&#34;args&#34;: [[&#34;q&#34;, [1]], [&#34;q&#34;, [2]]], &#34;op&#34;: {&#34;type&#34;: &#34;CZ&#34;}}, {&#34;args&#34;: [[&#34;q&#34;, [1]]], &#34;op&#34;: {&#34;type&#34;: &#34;X&#34;}}], &#34;created_qubits&#34;: [], &#34;discarded_qubits&#34;: [], &#34;implicit_permutation&#34;: [[[&#34;q&#34;, [0]], [&#34;q&#34;, [0]]], [[&#34;q&#34;, [1]], [&#34;q&#34;, [1]]], [[&#34;q&#34;, [2]], [&#34;q&#34;, [2]]]], &#34;phase&#34;: &#34;0.0&#34;, &#34;qubits&#34;: [[&#34;q&#34;, [0]], [&#34;q&#34;, [1]], [&#34;q&#34;, [2]]]}&lt;/div&gt;\n",
       "        &lt;/div&gt;\n",
       "        &lt;circuit-display-container\n",
       "                :circuit-element-str=&#34;&#39;#circuit-json-to-display&#39;&#34;\n",
       "                :init-render-options=&#34;initRenderOptions&#34;\n",
       "        &gt;&lt;/circuit-display-container&gt;\n",
       "    &lt;/div&gt;\n",
       "    &lt;script type=&#34;application/javascript&#34;&gt;\n",
       "      const circuitRendererUid = &#34;9d9843cb-f321-4271-9c77-2825fb371adf&#34;;\n",
       "      const displayOptions = JSON.parse(&#39;{}&#39;);\n",
       "\n",
       "      // Script to initialise the circuit renderer app\r\n",
       "\r\n",
       "const { createApp } = Vue;\r\n",
       "const circuitDisplayContainer = window[&#34;pytket-circuit-renderer&#34;].default;\r\n",
       "// Init variables to be shared between circuit display instances\r\n",
       "if (typeof window.pytketCircuitDisplays === &#34;undefined&#34;) {\r\n",
       "    window.pytketCircuitDisplays = {};\r\n",
       "}\r\n",
       "// Create the root Vue component\r\n",
       "const app = createApp({\r\n",
       "    delimiters: [&#39;[[#&#39;, &#39;#]]&#39;],\r\n",
       "    components: { circuitDisplayContainer },\r\n",
       "    data () {\r\n",
       "      return {\r\n",
       "        initRenderOptions: displayOptions,\r\n",
       "      }\r\n",
       "    }\r\n",
       "})\r\n",
       "app.config.unwrapInjectedRef = true;\r\n",
       "app.mount(&#34;#circuit-display-vue-container-&#34;+circuitRendererUid);\r\n",
       "window.pytketCircuitDisplays[circuitRendererUid] = app;\n",
       "    &lt;/script&gt;\n",
       "\n",
       "\n",
       "\n",
       "&lt;/body&gt;\n",
       "&lt;/html&gt;\n",
       "\"\n",
       "            width=\"100%\" height=\"100%\"\n",
       "            style=\"border: none; outline: none; overflow: auto\"></iframe>\n",
       "</div>\n",
       "\n"
      ],
      "text/plain": [
       "<IPython.core.display.HTML object>"
      ]
     },
     "metadata": {},
     "output_type": "display_data"
    }
   ],
   "source": [
    "from pytket import Circuit\n",
    "from pytket.circuit.display import render_circuit_jupyter\n",
    "\n",
    "circ = Circuit(3)\n",
    "circ.CX(0, 1).CZ(1, 2).X(1).Rx(0.3, 0)\n",
    "render_circuit_jupyter(circ) # Render interactive circuit diagram"
   ]
  },
  {
   "cell_type": "markdown",
   "metadata": {},
   "source": [
    "you can also make it display like a DAG"
   ]
  },
  {
   "cell_type": "code",
   "execution_count": 22,
   "metadata": {},
   "outputs": [
    {
     "data": {
      "image/svg+xml": [
       "<?xml version=\"1.0\" encoding=\"UTF-8\" standalone=\"no\"?>\n",
       "<!DOCTYPE svg PUBLIC \"-//W3C//DTD SVG 1.1//EN\"\n",
       " \"http://www.w3.org/Graphics/SVG/1.1/DTD/svg11.dtd\">\n",
       "<!-- Generated by graphviz version 9.0.0 (20230911.1827)\n",
       " -->\n",
       "<!-- Title: Circuit Pages: 1 -->\n",
       "<svg width=\"205pt\" height=\"109pt\"\n",
       " viewBox=\"0.00 0.00 205.00 109.00\" xmlns=\"http://www.w3.org/2000/svg\" xmlns:xlink=\"http://www.w3.org/1999/xlink\">\n",
       "<g id=\"graph0\" class=\"graph\" transform=\"scale(1 1) rotate(0) translate(4 105)\">\n",
       "<title>Circuit</title>\n",
       "<polygon fill=\"white\" stroke=\"none\" points=\"-4,4 -4,-105 201,-105 201,4 -4,4\"/>\n",
       "<g id=\"clust7\" class=\"cluster\">\n",
       "<title>cluster_6</title>\n",
       "<path fill=\"lightblue\" stroke=\"lightblue\" d=\"M51.13,-27C51.13,-27 60.67,-27 60.67,-27 65.43,-27 70.2,-31.77 70.2,-36.53 70.2,-36.53 70.2,-65.47 70.2,-65.47 70.2,-70.23 65.43,-75 60.67,-75 60.67,-75 51.13,-75 51.13,-75 46.37,-75 41.6,-70.23 41.6,-65.47 41.6,-65.47 41.6,-36.53 41.6,-36.53 41.6,-31.77 46.37,-27 51.13,-27\"/>\n",
       "<text text-anchor=\"middle\" x=\"55.9\" y=\"-61.5\" font-family=\"Times New Roman,serif\" font-size=\"10.00\">CX</text>\n",
       "</g>\n",
       "<g id=\"clust1\" class=\"cluster\">\n",
       "<title>cluster_q_inputs</title>\n",
       "<path fill=\"lightgrey\" stroke=\"lightgrey\" d=\"M20.53,-12C20.53,-12 25.07,-12 25.07,-12 27.33,-12 29.6,-14.27 29.6,-16.53 29.6,-16.53 29.6,-51.47 29.6,-51.47 29.6,-53.73 27.33,-56 25.07,-56 25.07,-56 20.53,-56 20.53,-56 18.27,-56 16,-53.73 16,-51.47 16,-51.47 16,-16.53 16,-16.53 16,-14.27 18.27,-12 20.53,-12\"/>\n",
       "</g>\n",
       "<g id=\"clust4\" class=\"cluster\">\n",
       "<title>cluster_q_outputs</title>\n",
       "<path fill=\"lightgrey\" stroke=\"lightgrey\" d=\"M179.93,-12C179.93,-12 184.47,-12 184.47,-12 186.73,-12 189,-14.27 189,-16.53 189,-16.53 189,-51.47 189,-51.47 189,-53.73 186.73,-56 184.47,-56 184.47,-56 179.93,-56 179.93,-56 177.67,-56 175.4,-53.73 175.4,-51.47 175.4,-51.47 175.4,-16.53 175.4,-16.53 175.4,-14.27 177.67,-12 179.93,-12\"/>\n",
       "</g>\n",
       "<g id=\"clust10\" class=\"cluster\">\n",
       "<title>cluster_9</title>\n",
       "<path fill=\"lightblue\" stroke=\"lightblue\" d=\"M131.8,-60C131.8,-60 152.4,-60 152.4,-60 157.9,-60 163.4,-65.5 163.4,-71 163.4,-71 163.4,-82 163.4,-82 163.4,-87.5 157.9,-93 152.4,-93 152.4,-93 131.8,-93 131.8,-93 126.3,-93 120.8,-87.5 120.8,-82 120.8,-82 120.8,-71 120.8,-71 120.8,-65.5 126.3,-60 131.8,-60\"/>\n",
       "<text text-anchor=\"middle\" x=\"142.1\" y=\"-79.5\" font-family=\"Times New Roman,serif\" font-size=\"10.00\">Rx(0.3)</text>\n",
       "</g>\n",
       "<g id=\"clust8\" class=\"cluster\">\n",
       "<title>cluster_7</title>\n",
       "<path fill=\"lightblue\" stroke=\"lightblue\" d=\"M91.4,-8C91.4,-8 100.6,-8 100.6,-8 105.2,-8 109.8,-12.6 109.8,-17.2 109.8,-17.2 109.8,-46.8 109.8,-46.8 109.8,-51.4 105.2,-56 100.6,-56 100.6,-56 91.4,-56 91.4,-56 86.8,-56 82.2,-51.4 82.2,-46.8 82.2,-46.8 82.2,-17.2 82.2,-17.2 82.2,-12.6 86.8,-8 91.4,-8\"/>\n",
       "<text text-anchor=\"middle\" x=\"96\" y=\"-42.5\" font-family=\"Times New Roman,serif\" font-size=\"10.00\">CZ</text>\n",
       "</g>\n",
       "<g id=\"clust9\" class=\"cluster\">\n",
       "<title>cluster_8</title>\n",
       "<path fill=\"lightblue\" stroke=\"lightblue\" d=\"M138.33,-27C138.33,-27 145.87,-27 145.87,-27 149.63,-27 153.4,-30.77 153.4,-34.53 153.4,-34.53 153.4,-52.47 153.4,-52.47 153.4,-56.23 149.63,-60 145.87,-60 145.87,-60 138.33,-60 138.33,-60 134.57,-60 130.8,-56.23 130.8,-52.47 130.8,-52.47 130.8,-34.53 130.8,-34.53 130.8,-30.77 134.57,-27 138.33,-27\"/>\n",
       "<text text-anchor=\"middle\" x=\"142.1\" y=\"-46.5\" font-family=\"Times New Roman,serif\" font-size=\"10.00\">X</text>\n",
       "</g>\n",
       "<!-- (0, 0) -->\n",
       "<g id=\"node1\" class=\"node\">\n",
       "<title>(0, 0)</title>\n",
       "<ellipse fill=\"blue\" stroke=\"blue\" cx=\"22.8\" cy=\"-49\" rx=\"1.8\" ry=\"1.8\"/>\n",
       "<text text-anchor=\"middle\" x=\"10.5\" y=\"-39.6\" font-family=\"Courier,monospace\" font-size=\"8.00\">q[0]</text>\n",
       "</g>\n",
       "<!-- (6, 0) -->\n",
       "<g id=\"node7\" class=\"node\">\n",
       "<title>(6, 0)</title>\n",
       "<ellipse fill=\"black\" stroke=\"black\" cx=\"55.4\" cy=\"-49\" rx=\"1.8\" ry=\"1.8\"/>\n",
       "<text text-anchor=\"middle\" x=\"51.35\" y=\"-39.6\" font-family=\"Helvetica,sans-Serif\" font-size=\"8.00\">0</text>\n",
       "</g>\n",
       "<!-- (0, 0)&#45;&gt;(6, 0) -->\n",
       "<g id=\"edge1\" class=\"edge\">\n",
       "<title>(0, 0)&#45;&gt;(6, 0)</title>\n",
       "<path fill=\"none\" stroke=\"blue\" d=\"M24.56,-49C28.1,-49 43.19,-49 50.46,-49\"/>\n",
       "<polygon fill=\"blue\" stroke=\"blue\" points=\"52.29,-49 50.29,-50.13 52.31,-49 50.29,-49 50.29,-49 50.29,-49 52.31,-49 50.29,-47.88 52.29,-49\"/>\n",
       "</g>\n",
       "<!-- (2, 0) -->\n",
       "<g id=\"node2\" class=\"node\">\n",
       "<title>(2, 0)</title>\n",
       "<ellipse fill=\"blue\" stroke=\"blue\" cx=\"22.8\" cy=\"-34\" rx=\"1.8\" ry=\"1.8\"/>\n",
       "<text text-anchor=\"middle\" x=\"10.5\" y=\"-24.6\" font-family=\"Courier,monospace\" font-size=\"8.00\">q[1]</text>\n",
       "</g>\n",
       "<!-- (6, 1) -->\n",
       "<g id=\"node8\" class=\"node\">\n",
       "<title>(6, 1)</title>\n",
       "<ellipse fill=\"black\" stroke=\"black\" cx=\"55.4\" cy=\"-34\" rx=\"1.8\" ry=\"1.8\"/>\n",
       "<text text-anchor=\"middle\" x=\"51.35\" y=\"-24.6\" font-family=\"Helvetica,sans-Serif\" font-size=\"8.00\">1</text>\n",
       "</g>\n",
       "<!-- (2, 0)&#45;&gt;(6, 1) -->\n",
       "<g id=\"edge2\" class=\"edge\">\n",
       "<title>(2, 0)&#45;&gt;(6, 1)</title>\n",
       "<path fill=\"none\" stroke=\"blue\" d=\"M24.56,-34C28.1,-34 43.19,-34 50.46,-34\"/>\n",
       "<polygon fill=\"blue\" stroke=\"blue\" points=\"52.29,-34 50.29,-35.13 52.31,-34 50.29,-34 50.29,-34 50.29,-34 52.31,-34 50.29,-32.88 52.29,-34\"/>\n",
       "</g>\n",
       "<!-- (4, 0) -->\n",
       "<g id=\"node3\" class=\"node\">\n",
       "<title>(4, 0)</title>\n",
       "<ellipse fill=\"blue\" stroke=\"blue\" cx=\"22.8\" cy=\"-19\" rx=\"1.8\" ry=\"1.8\"/>\n",
       "<text text-anchor=\"middle\" x=\"10.5\" y=\"-9.6\" font-family=\"Courier,monospace\" font-size=\"8.00\">q[2]</text>\n",
       "</g>\n",
       "<!-- (7, 1) -->\n",
       "<g id=\"node10\" class=\"node\">\n",
       "<title>(7, 1)</title>\n",
       "<ellipse fill=\"black\" stroke=\"black\" cx=\"96\" cy=\"-15\" rx=\"1.8\" ry=\"1.8\"/>\n",
       "<text text-anchor=\"middle\" x=\"91.95\" y=\"-5.6\" font-family=\"Helvetica,sans-Serif\" font-size=\"8.00\">1</text>\n",
       "</g>\n",
       "<!-- (4, 0)&#45;&gt;(7, 1) -->\n",
       "<g id=\"edge3\" class=\"edge\">\n",
       "<title>(4, 0)&#45;&gt;(7, 1)</title>\n",
       "<path fill=\"none\" stroke=\"blue\" d=\"M25.04,-18.93C33,-18.48 77.22,-16 90.94,-15.23\"/>\n",
       "<polygon fill=\"blue\" stroke=\"blue\" points=\"92.93,-15.12 90.99,-16.35 92.95,-15.12 90.93,-15.23 90.93,-15.23 90.93,-15.23 92.95,-15.12 90.87,-14.11 92.93,-15.12\"/>\n",
       "</g>\n",
       "<!-- (1, 0) -->\n",
       "<g id=\"node4\" class=\"node\">\n",
       "<title>(1, 0)</title>\n",
       "<ellipse fill=\"blue\" stroke=\"blue\" cx=\"182.2\" cy=\"-49\" rx=\"1.8\" ry=\"1.8\"/>\n",
       "<text text-anchor=\"middle\" x=\"169.9\" y=\"-39.6\" font-family=\"Courier,monospace\" font-size=\"8.00\">q[0]</text>\n",
       "</g>\n",
       "<!-- (3, 0) -->\n",
       "<g id=\"node5\" class=\"node\">\n",
       "<title>(3, 0)</title>\n",
       "<ellipse fill=\"blue\" stroke=\"blue\" cx=\"182.2\" cy=\"-34\" rx=\"1.8\" ry=\"1.8\"/>\n",
       "<text text-anchor=\"middle\" x=\"169.9\" y=\"-24.6\" font-family=\"Courier,monospace\" font-size=\"8.00\">q[1]</text>\n",
       "</g>\n",
       "<!-- (5, 0) -->\n",
       "<g id=\"node6\" class=\"node\">\n",
       "<title>(5, 0)</title>\n",
       "<ellipse fill=\"blue\" stroke=\"blue\" cx=\"182.2\" cy=\"-19\" rx=\"1.8\" ry=\"1.8\"/>\n",
       "<text text-anchor=\"middle\" x=\"169.9\" y=\"-9.6\" font-family=\"Courier,monospace\" font-size=\"8.00\">q[2]</text>\n",
       "</g>\n",
       "<!-- (9, 0) -->\n",
       "<g id=\"node12\" class=\"node\">\n",
       "<title>(9, 0)</title>\n",
       "<ellipse fill=\"black\" stroke=\"black\" cx=\"141.6\" cy=\"-67\" rx=\"1.8\" ry=\"1.8\"/>\n",
       "</g>\n",
       "<!-- (6, 0)&#45;&gt;(9, 0) -->\n",
       "<g id=\"edge4\" class=\"edge\">\n",
       "<title>(6, 0)&#45;&gt;(9, 0)</title>\n",
       "<path fill=\"none\" stroke=\"blue\" d=\"M57.37,-49.35C60.75,-50.57 72.35,-54.64 82.2,-57 102.87,-61.95 128.22,-65.42 137.23,-66.58\"/>\n",
       "<polygon fill=\"blue\" stroke=\"blue\" points=\"138.76,-66.77 136.63,-67.64 138.78,-66.77 136.77,-66.52 136.77,-66.52 136.77,-66.52 138.78,-66.77 136.91,-65.41 138.76,-66.77\"/>\n",
       "</g>\n",
       "<!-- (7, 0) -->\n",
       "<g id=\"node9\" class=\"node\">\n",
       "<title>(7, 0)</title>\n",
       "<ellipse fill=\"black\" stroke=\"black\" cx=\"96\" cy=\"-30\" rx=\"1.8\" ry=\"1.8\"/>\n",
       "<text text-anchor=\"middle\" x=\"91.95\" y=\"-20.6\" font-family=\"Helvetica,sans-Serif\" font-size=\"8.00\">0</text>\n",
       "</g>\n",
       "<!-- (6, 1)&#45;&gt;(7, 0) -->\n",
       "<g id=\"edge5\" class=\"edge\">\n",
       "<title>(6, 1)&#45;&gt;(7, 0)</title>\n",
       "<path fill=\"none\" stroke=\"blue\" d=\"M57.68,-33.87C63,-33.32 83.35,-31.21 91.55,-30.36\"/>\n",
       "<polygon fill=\"blue\" stroke=\"blue\" points=\"93.22,-30.18 91.35,-31.51 93.24,-30.18 91.23,-30.39 91.23,-30.39 91.23,-30.39 93.24,-30.18 91.12,-29.27 93.22,-30.18\"/>\n",
       "</g>\n",
       "<!-- (8, 0) -->\n",
       "<g id=\"node11\" class=\"node\">\n",
       "<title>(8, 0)</title>\n",
       "<ellipse fill=\"black\" stroke=\"black\" cx=\"141.6\" cy=\"-34\" rx=\"1.8\" ry=\"1.8\"/>\n",
       "</g>\n",
       "<!-- (7, 0)&#45;&gt;(8, 0) -->\n",
       "<g id=\"edge7\" class=\"edge\">\n",
       "<title>(7, 0)&#45;&gt;(8, 0)</title>\n",
       "<path fill=\"none\" stroke=\"blue\" d=\"M98.08,-30.1C103.5,-30.6 127.87,-32.83 137.07,-33.68\"/>\n",
       "<polygon fill=\"blue\" stroke=\"blue\" points=\"138.69,-33.83 136.6,-34.76 138.71,-33.83 136.7,-33.64 136.7,-33.64 136.7,-33.64 138.71,-33.83 136.8,-32.52 138.69,-33.83\"/>\n",
       "</g>\n",
       "<!-- (7, 1)&#45;&gt;(5, 0) -->\n",
       "<g id=\"edge6\" class=\"edge\">\n",
       "<title>(7, 1)&#45;&gt;(5, 0)</title>\n",
       "<path fill=\"none\" stroke=\"blue\" d=\"M98.19,-15.06C106.96,-15.47 161.67,-18.07 177.13,-18.81\"/>\n",
       "<polygon fill=\"blue\" stroke=\"blue\" points=\"178.91,-18.89 176.86,-19.92 178.93,-18.89 176.92,-18.8 176.92,-18.8 176.92,-18.8 178.93,-18.89 176.97,-17.67 178.91,-18.89\"/>\n",
       "</g>\n",
       "<!-- (8, 0)&#45;&gt;(3, 0) -->\n",
       "<g id=\"edge8\" class=\"edge\">\n",
       "<title>(8, 0)&#45;&gt;(3, 0)</title>\n",
       "<path fill=\"none\" stroke=\"blue\" d=\"M143.88,-34C149.2,-34 169.55,-34 177.75,-34\"/>\n",
       "<polygon fill=\"blue\" stroke=\"blue\" points=\"179.42,-34 177.42,-35.13 179.44,-34 177.42,-34 177.42,-34 177.42,-34 179.44,-34 177.42,-32.88 179.42,-34\"/>\n",
       "</g>\n",
       "<!-- (9, 0)&#45;&gt;(1, 0) -->\n",
       "<g id=\"edge9\" class=\"edge\">\n",
       "<title>(9, 0)&#45;&gt;(1, 0)</title>\n",
       "<path fill=\"none\" stroke=\"blue\" d=\"M143.77,-66.8C147.01,-66.2 156.32,-64.31 163.4,-61 168.89,-58.44 174.58,-54.29 178.01,-51.61\"/>\n",
       "<polygon fill=\"blue\" stroke=\"blue\" points=\"179.5,-50.4 178.65,-52.53 179.52,-50.39 177.95,-51.66 177.95,-51.66 177.95,-51.66 179.52,-50.39 177.24,-50.78 179.5,-50.4\"/>\n",
       "</g>\n",
       "</g>\n",
       "</svg>\n"
      ],
      "text/plain": [
       "<graphviz.graphs.Digraph at 0x21963f42c10>"
      ]
     },
     "execution_count": 22,
     "metadata": {},
     "output_type": "execute_result"
    }
   ],
   "source": [
    "from pytket import Circuit\n",
    "from pytket.utils import Graph\n",
    "\n",
    "circ = Circuit(3)\n",
    "circ.CX(0,1).CZ(1,2).X(1).Rx(0.3,0)\n",
    "Graph(circ).get_DAG()  # display the DAG"
   ]
  },
  {
   "cell_type": "markdown",
   "metadata": {},
   "source": [
    "can also be used to desc4ribe the interaction graph of a Circuit consisting only one and two qubit gates"
   ]
  },
  {
   "cell_type": "code",
   "execution_count": 23,
   "metadata": {},
   "outputs": [
    {
     "data": {
      "image/svg+xml": [
       "<?xml version=\"1.0\" encoding=\"UTF-8\" standalone=\"no\"?>\n",
       "<!DOCTYPE svg PUBLIC \"-//W3C//DTD SVG 1.1//EN\"\n",
       " \"http://www.w3.org/Graphics/SVG/1.1/DTD/svg11.dtd\">\n",
       "<!-- Generated by graphviz version 9.0.0 (20230911.1827)\n",
       " -->\n",
       "<!-- Title: Qubit connectivity Pages: 1 -->\n",
       "<svg width=\"197pt\" height=\"134pt\"\n",
       " viewBox=\"0.00 0.00 196.60 134.11\" xmlns=\"http://www.w3.org/2000/svg\" xmlns:xlink=\"http://www.w3.org/1999/xlink\">\n",
       "<g id=\"graph0\" class=\"graph\" transform=\"scale(1 1) rotate(0) translate(4 130.11)\">\n",
       "<title>Qubit connectivity</title>\n",
       "<polygon fill=\"white\" stroke=\"none\" points=\"-4,4 -4,-130.11 192.6,-130.11 192.6,4 -4,4\"/>\n",
       "<!-- q[0] -->\n",
       "<g id=\"node1\" class=\"node\">\n",
       "<title>q[0]</title>\n",
       "<ellipse fill=\"none\" stroke=\"blue\" cx=\"24.05\" cy=\"-24.05\" rx=\"24.05\" ry=\"24.05\"/>\n",
       "<text text-anchor=\"middle\" x=\"24.05\" y=\"-20.55\" font-family=\"Courier,monospace\" font-size=\"10.00\">q[0]</text>\n",
       "</g>\n",
       "<!-- q[1] -->\n",
       "<g id=\"node2\" class=\"node\">\n",
       "<title>q[1]</title>\n",
       "<ellipse fill=\"none\" stroke=\"blue\" cx=\"93.22\" cy=\"-48.4\" rx=\"24.05\" ry=\"24.05\"/>\n",
       "<text text-anchor=\"middle\" x=\"93.22\" y=\"-44.9\" font-family=\"Courier,monospace\" font-size=\"10.00\">q[1]</text>\n",
       "</g>\n",
       "<!-- q[0]&#45;&#45;q[1] -->\n",
       "<g id=\"edge1\" class=\"edge\">\n",
       "<title>q[0]&#45;&#45;q[1]</title>\n",
       "<path fill=\"none\" stroke=\"black\" d=\"M47.08,-32.16C54.63,-34.82 63,-37.76 70.52,-40.41\"/>\n",
       "</g>\n",
       "<!-- q[2] -->\n",
       "<g id=\"node3\" class=\"node\">\n",
       "<title>q[2]</title>\n",
       "<ellipse fill=\"none\" stroke=\"blue\" cx=\"164.55\" cy=\"-33.8\" rx=\"24.05\" ry=\"24.05\"/>\n",
       "<text text-anchor=\"middle\" x=\"164.55\" y=\"-30.3\" font-family=\"Courier,monospace\" font-size=\"10.00\">q[2]</text>\n",
       "</g>\n",
       "<!-- q[1]&#45;&#45;q[2] -->\n",
       "<g id=\"edge2\" class=\"edge\">\n",
       "<title>q[1]&#45;&#45;q[2]</title>\n",
       "<path fill=\"none\" stroke=\"black\" d=\"M116.97,-43.54C124.59,-41.98 133.03,-40.25 140.66,-38.69\"/>\n",
       "</g>\n",
       "<!-- q[3] -->\n",
       "<g id=\"node4\" class=\"node\">\n",
       "<title>q[3]</title>\n",
       "<ellipse fill=\"none\" stroke=\"blue\" cx=\"142.3\" cy=\"-102.06\" rx=\"24.05\" ry=\"24.05\"/>\n",
       "<text text-anchor=\"middle\" x=\"142.3\" y=\"-98.56\" font-family=\"Courier,monospace\" font-size=\"10.00\">q[3]</text>\n",
       "</g>\n",
       "<!-- q[1]&#45;&#45;q[3] -->\n",
       "<g id=\"edge3\" class=\"edge\">\n",
       "<title>q[1]&#45;&#45;q[3]</title>\n",
       "<path fill=\"none\" stroke=\"black\" d=\"M109.56,-66.26C114.81,-72 120.61,-78.34 125.86,-84.08\"/>\n",
       "</g>\n",
       "<!-- q[2]&#45;&#45;q[3] -->\n",
       "<g id=\"edge4\" class=\"edge\">\n",
       "<title>q[2]&#45;&#45;q[3]</title>\n",
       "<path fill=\"none\" stroke=\"black\" d=\"M157.02,-56.91C154.7,-64.03 152.15,-71.86 149.83,-78.97\"/>\n",
       "</g>\n",
       "</g>\n",
       "</svg>\n"
      ],
      "text/plain": [
       "<graphviz.graphs.Graph at 0x21962cb28d0>"
      ]
     },
     "execution_count": 23,
     "metadata": {},
     "output_type": "execute_result"
    }
   ],
   "source": [
    "from pytket import Circuit\n",
    "from pytket.utils import Graph\n",
    "\n",
    "circ = Circuit(4)\n",
    "circ.CX(0, 1).CZ(1, 2).ZZPhase(0.63, 2, 3).CX(1, 3).CY(0, 1)\n",
    "Graph(circ).get_qubit_graph()"
   ]
  },
  {
   "cell_type": "markdown",
   "metadata": {},
   "source": [
    "The full instruction sequence may often be too much detail for a lot of needs, especially for large circuits. Common circuit metrics like gate count and depth are used to approximate the difficulty of running it on a device, providing some basic tools to help distinguish different implementations of a given algorithm."
   ]
  },
  {
   "cell_type": "code",
   "execution_count": 24,
   "metadata": {},
   "outputs": [
    {
     "name": "stdout",
     "output_type": "stream",
     "text": [
      "Total gate count = 4\n",
      "Circuit depth = 3\n"
     ]
    }
   ],
   "source": [
    "from pytket import Circuit\n",
    "\n",
    "circ = Circuit(3)\n",
    "circ.CX(0, 1).CZ(1, 2).X(1).Rx(0.3, 0)\n",
    "\n",
    "print(\"Total gate count =\", circ.n_gates)\n",
    "print(\"Circuit depth =\", circ.depth())"
   ]
  },
  {
   "cell_type": "code",
   "execution_count": null,
   "metadata": {},
   "outputs": [],
   "source": []
  }
 ],
 "metadata": {
  "kernelspec": {
   "display_name": "Python 3",
   "language": "python",
   "name": "python3"
  },
  "language_info": {
   "codemirror_mode": {
    "name": "ipython",
    "version": 3
   },
   "file_extension": ".py",
   "mimetype": "text/x-python",
   "name": "python",
   "nbconvert_exporter": "python",
   "pygments_lexer": "ipython3",
   "version": "3.11.6"
  }
 },
 "nbformat": 4,
 "nbformat_minor": 2
}
